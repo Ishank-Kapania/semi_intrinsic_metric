{
 "cells": [
  {
   "cell_type": "code",
   "execution_count": null,
   "metadata": {
    "colab": {
     "base_uri": "https://localhost:8080/"
    },
    "executionInfo": {
     "elapsed": 23753,
     "status": "ok",
     "timestamp": 1714906532181,
     "user": {
      "displayName": "Gaurang Patil",
      "userId": "15668632964256625578"
     },
     "user_tz": -330
    },
    "id": "avjfpiy52_rM",
    "outputId": "fe811021-6b01-41fd-945b-e377479df9c6"
   },
   "outputs": [
    {
     "name": "stdout",
     "output_type": "stream",
     "text": [
      "Collecting indic-nlp-library\n",
      "  Downloading indic_nlp_library-0.92-py3-none-any.whl (40 kB)\n",
      "\u001b[?25l     \u001b[90m━━━━━━━━━━━━━━━━━━━━━━━━━━━━━━━━━━━━━━━━\u001b[0m \u001b[32m0.0/40.3 kB\u001b[0m \u001b[31m?\u001b[0m eta \u001b[36m-:--:--\u001b[0m\r",
      "\u001b[2K     \u001b[91m━━━━━━━━━━━━━━━━━━━━━━━━━━━━━━\u001b[0m\u001b[91m╸\u001b[0m\u001b[90m━━━━━━━━━\u001b[0m \u001b[32m30.7/40.3 kB\u001b[0m \u001b[31m1.3 MB/s\u001b[0m eta \u001b[36m0:00:01\u001b[0m\r",
      "\u001b[2K     \u001b[90m━━━━━━━━━━━━━━━━━━━━━━━━━━━━━━━━━━━━━━━━\u001b[0m \u001b[32m40.3/40.3 kB\u001b[0m \u001b[31m799.0 kB/s\u001b[0m eta \u001b[36m0:00:00\u001b[0m\n",
      "\u001b[?25hCollecting sphinx-argparse (from indic-nlp-library)\n",
      "  Downloading sphinx_argparse-0.4.0-py3-none-any.whl (12 kB)\n",
      "Collecting sphinx-rtd-theme (from indic-nlp-library)\n",
      "  Downloading sphinx_rtd_theme-2.0.0-py2.py3-none-any.whl (2.8 MB)\n",
      "\u001b[2K     \u001b[90m━━━━━━━━━━━━━━━━━━━━━━━━━━━━━━━━━━━━━━━━\u001b[0m \u001b[32m2.8/2.8 MB\u001b[0m \u001b[31m24.6 MB/s\u001b[0m eta \u001b[36m0:00:00\u001b[0m\n",
      "\u001b[?25hCollecting morfessor (from indic-nlp-library)\n",
      "  Downloading Morfessor-2.0.6-py3-none-any.whl (35 kB)\n",
      "Requirement already satisfied: pandas in /usr/local/lib/python3.10/dist-packages (from indic-nlp-library) (2.0.3)\n",
      "Requirement already satisfied: numpy in /usr/local/lib/python3.10/dist-packages (from indic-nlp-library) (1.25.2)\n",
      "Requirement already satisfied: python-dateutil>=2.8.2 in /usr/local/lib/python3.10/dist-packages (from pandas->indic-nlp-library) (2.8.2)\n",
      "Requirement already satisfied: pytz>=2020.1 in /usr/local/lib/python3.10/dist-packages (from pandas->indic-nlp-library) (2023.4)\n",
      "Requirement already satisfied: tzdata>=2022.1 in /usr/local/lib/python3.10/dist-packages (from pandas->indic-nlp-library) (2024.1)\n",
      "Requirement already satisfied: sphinx>=1.2.0 in /usr/local/lib/python3.10/dist-packages (from sphinx-argparse->indic-nlp-library) (5.0.2)\n",
      "Requirement already satisfied: docutils<0.21 in /usr/local/lib/python3.10/dist-packages (from sphinx-rtd-theme->indic-nlp-library) (0.18.1)\n",
      "Collecting sphinxcontrib-jquery<5,>=4 (from sphinx-rtd-theme->indic-nlp-library)\n",
      "  Downloading sphinxcontrib_jquery-4.1-py2.py3-none-any.whl (121 kB)\n",
      "\u001b[2K     \u001b[90m━━━━━━━━━━━━━━━━━━━━━━━━━━━━━━━━━━━━━━━━\u001b[0m \u001b[32m121.1/121.1 kB\u001b[0m \u001b[31m10.5 MB/s\u001b[0m eta \u001b[36m0:00:00\u001b[0m\n",
      "\u001b[?25hRequirement already satisfied: six>=1.5 in /usr/local/lib/python3.10/dist-packages (from python-dateutil>=2.8.2->pandas->indic-nlp-library) (1.16.0)\n",
      "Requirement already satisfied: sphinxcontrib-applehelp in /usr/local/lib/python3.10/dist-packages (from sphinx>=1.2.0->sphinx-argparse->indic-nlp-library) (1.0.8)\n",
      "Requirement already satisfied: sphinxcontrib-devhelp in /usr/local/lib/python3.10/dist-packages (from sphinx>=1.2.0->sphinx-argparse->indic-nlp-library) (1.0.6)\n",
      "Requirement already satisfied: sphinxcontrib-jsmath in /usr/local/lib/python3.10/dist-packages (from sphinx>=1.2.0->sphinx-argparse->indic-nlp-library) (1.0.1)\n",
      "Requirement already satisfied: sphinxcontrib-htmlhelp>=2.0.0 in /usr/local/lib/python3.10/dist-packages (from sphinx>=1.2.0->sphinx-argparse->indic-nlp-library) (2.0.5)\n",
      "Requirement already satisfied: sphinxcontrib-serializinghtml>=1.1.5 in /usr/local/lib/python3.10/dist-packages (from sphinx>=1.2.0->sphinx-argparse->indic-nlp-library) (1.1.10)\n",
      "Requirement already satisfied: sphinxcontrib-qthelp in /usr/local/lib/python3.10/dist-packages (from sphinx>=1.2.0->sphinx-argparse->indic-nlp-library) (1.0.7)\n",
      "Requirement already satisfied: Jinja2>=2.3 in /usr/local/lib/python3.10/dist-packages (from sphinx>=1.2.0->sphinx-argparse->indic-nlp-library) (3.1.3)\n",
      "Requirement already satisfied: Pygments>=2.0 in /usr/local/lib/python3.10/dist-packages (from sphinx>=1.2.0->sphinx-argparse->indic-nlp-library) (2.16.1)\n",
      "Requirement already satisfied: snowballstemmer>=1.1 in /usr/local/lib/python3.10/dist-packages (from sphinx>=1.2.0->sphinx-argparse->indic-nlp-library) (2.2.0)\n",
      "Requirement already satisfied: babel>=1.3 in /usr/local/lib/python3.10/dist-packages (from sphinx>=1.2.0->sphinx-argparse->indic-nlp-library) (2.14.0)\n",
      "Requirement already satisfied: alabaster<0.8,>=0.7 in /usr/local/lib/python3.10/dist-packages (from sphinx>=1.2.0->sphinx-argparse->indic-nlp-library) (0.7.16)\n",
      "Requirement already satisfied: imagesize in /usr/local/lib/python3.10/dist-packages (from sphinx>=1.2.0->sphinx-argparse->indic-nlp-library) (1.4.1)\n",
      "Requirement already satisfied: requests>=2.5.0 in /usr/local/lib/python3.10/dist-packages (from sphinx>=1.2.0->sphinx-argparse->indic-nlp-library) (2.31.0)\n",
      "Requirement already satisfied: packaging in /usr/local/lib/python3.10/dist-packages (from sphinx>=1.2.0->sphinx-argparse->indic-nlp-library) (24.0)\n",
      "Requirement already satisfied: MarkupSafe>=2.0 in /usr/local/lib/python3.10/dist-packages (from Jinja2>=2.3->sphinx>=1.2.0->sphinx-argparse->indic-nlp-library) (2.1.5)\n",
      "Requirement already satisfied: charset-normalizer<4,>=2 in /usr/local/lib/python3.10/dist-packages (from requests>=2.5.0->sphinx>=1.2.0->sphinx-argparse->indic-nlp-library) (3.3.2)\n",
      "Requirement already satisfied: idna<4,>=2.5 in /usr/local/lib/python3.10/dist-packages (from requests>=2.5.0->sphinx>=1.2.0->sphinx-argparse->indic-nlp-library) (3.7)\n",
      "Requirement already satisfied: urllib3<3,>=1.21.1 in /usr/local/lib/python3.10/dist-packages (from requests>=2.5.0->sphinx>=1.2.0->sphinx-argparse->indic-nlp-library) (2.0.7)\n",
      "Requirement already satisfied: certifi>=2017.4.17 in /usr/local/lib/python3.10/dist-packages (from requests>=2.5.0->sphinx>=1.2.0->sphinx-argparse->indic-nlp-library) (2024.2.2)\n",
      "Installing collected packages: morfessor, sphinxcontrib-jquery, sphinx-argparse, sphinx-rtd-theme, indic-nlp-library\n",
      "Successfully installed indic-nlp-library-0.92 morfessor-2.0.6 sphinx-argparse-0.4.0 sphinx-rtd-theme-2.0.0 sphinxcontrib-jquery-4.1\n"
     ]
    }
   ],
   "source": [
    "!pip install indic-nlp-library"
   ]
  },
  {
   "cell_type": "code",
   "execution_count": null,
   "metadata": {
    "colab": {
     "base_uri": "https://localhost:8080/"
    },
    "executionInfo": {
     "elapsed": 18513,
     "status": "ok",
     "timestamp": 1714906550690,
     "user": {
      "displayName": "Gaurang Patil",
      "userId": "15668632964256625578"
     },
     "user_tz": -330
    },
    "id": "1H9kEusl3DHg",
    "outputId": "5899766b-d39d-479e-c757-e3221d81f813"
   },
   "outputs": [
    {
     "name": "stdout",
     "output_type": "stream",
     "text": [
      "Mounted at /content/drive\n"
     ]
    }
   ],
   "source": [
    "from google.colab import drive\n",
    "drive.mount('/content/drive')"
   ]
  },
  {
   "cell_type": "code",
   "execution_count": null,
   "metadata": {
    "_cell_guid": "b1076dfc-b9ad-4769-8c92-a6c4dae69d19",
    "_uuid": "8f2839f25d086af736a60e9eeb907d3b93b6e0e5",
    "execution": {
     "iopub.execute_input": "2024-04-10T05:20:31.109503Z",
     "iopub.status.busy": "2024-04-10T05:20:31.109106Z",
     "iopub.status.idle": "2024-04-10T05:20:39.206712Z",
     "shell.execute_reply": "2024-04-10T05:20:39.202719Z",
     "shell.execute_reply.started": "2024-04-10T05:20:31.109470Z"
    },
    "id": "AZYic9JeUVQA"
   },
   "outputs": [],
   "source": [
    "import matplotlib.pyplot as plt\n",
    "\n",
    "import torch\n",
    "from torch import nn,tensor\n",
    "from torch.utils.data import Dataset,DataLoader\n",
    "from torchtext.vocab import build_vocab_from_iterator\n",
    "from tqdm import tqdm\n",
    "import re\n",
    "import numpy as np\n",
    "import pandas as pd\n",
    "import pickle\n",
    "from indicnlp.tokenize import indic_tokenize\n",
    "import seaborn as sns\n",
    "import copy\n",
    "\n",
    "train_path = '/content/drive/MyDrive/Colab Notebooks/INLP Project/product_reviews/hi/hi-train.csv'\n",
    "test_path ='/content/drive/MyDrive/Colab Notebooks/INLP Project/product_reviews/hi/hi-test.csv'\n",
    "syn_path = '/content/drive/MyDrive/Colab Notebooks/INLP Project/product_reviews/hi/hi-test-updated.csv'\n",
    "val_path = '/content/drive/MyDrive/Colab Notebooks/INLP Project/product_reviews/hi/hi-valid.csv'\n",
    "forward_model_path ='/content/drive/MyDrive/Colab Notebooks/INLP Project/train embeddings/pretrained_forward_model'\n",
    "backward_model_path ='/content/drive/MyDrive/Colab Notebooks/INLP Project/train embeddings/pretrained_backward_model'\n",
    "word_to_ix_path = '/content/drive/MyDrive/Colab Notebooks/INLP Project/train embeddings/word_to_ix.pkl'"
   ]
  },
  {
   "cell_type": "code",
   "execution_count": null,
   "metadata": {
    "colab": {
     "base_uri": "https://localhost:8080/",
     "height": 206
    },
    "execution": {
     "iopub.status.busy": "2024-04-10T05:20:39.210071Z",
     "iopub.status.idle": "2024-04-10T05:20:39.210873Z",
     "shell.execute_reply": "2024-04-10T05:20:39.210612Z",
     "shell.execute_reply.started": "2024-04-10T05:20:39.210588Z"
    },
    "executionInfo": {
     "elapsed": 2083,
     "status": "ok",
     "timestamp": 1714906558513,
     "user": {
      "displayName": "Gaurang Patil",
      "userId": "15668632964256625578"
     },
     "user_tz": -330
    },
    "id": "uE38pW8oWR5m",
    "outputId": "a86c198c-dc05-4d0c-c710-076378394291"
   },
   "outputs": [
    {
     "data": {
      "application/vnd.google.colaboratory.intrinsic+json": {
       "summary": "{\n  \"name\": \"test_df\",\n  \"rows\": 523,\n  \"fields\": [\n    {\n      \"column\": \"Label\",\n      \"properties\": {\n        \"dtype\": \"category\",\n        \"num_unique_values\": 3,\n        \"samples\": [\n          \"neutral\",\n          \"negative\",\n          \"positive\"\n        ],\n        \"semantic_type\": \"\",\n        \"description\": \"\"\n      }\n    },\n    {\n      \"column\": \"Text\",\n      \"properties\": {\n        \"dtype\": \"string\",\n        \"num_unique_values\": 523,\n        \"samples\": [\n          \"\\u0907\\u092e\\u0947\\u091c \\u0924\\u0925\\u093e \\u0935\\u0940\\u0921\\u093f\\u092f\\u094b \\u0935\\u093e\\u0938\\u094d\\u0924\\u0935 \\u092e\\u0947\\u0902 \\u0905\\u091a\\u094d\\u091b\\u0947 \\u0906\\u0924\\u0947 \\u0939\\u0948 \\u0964\",\n          \"\\u0905\\u0917\\u0930 \\u0906\\u092a \\u092b\\u0942\\u0932\\u094b\\u0902 \\u0915\\u0947 \\u0936\\u094c\\u0915\\u0940\\u0928 \\u0939\\u0948 \\u0914\\u0930 \\u0915\\u0936\\u094d\\u092e\\u0940\\u0930 \\u091c\\u093e\\u0928\\u0947 \\u0915\\u093e \\u092a\\u094d\\u0932\\u093e\\u0928 \\u092c\\u0928\\u093e \\u0930\\u0939\\u0947 \\u0939\\u0948 \\u0924\\u094b \\u0926\\u0947\\u0930 \\u092e\\u0924 \\u0915\\u0930\\u093f\\u090f \\u0964\",\n          \"\\u092b\\u0947\\u0938\\u092c\\u0941\\u0915 \\u0915\\u093e \\u0938\\u093f\\u0915\\u094d\\u092f\\u094b\\u0930\\u093f\\u091f\\u0940 \\u091a\\u0948\\u0915\\u0905\\u092a \\u092b\\u0940\\u091a\\u0930 \\u092a\\u0949\\u092a\\u0905\\u092a \\u0915\\u0940 \\u0924\\u0930\\u0939 \\u092f\\u0942\\u091c\\u0930\\u094d\\u0938 \\u0915\\u094b \\u0926\\u093f\\u0916\\u093e\\u0907 \\u0926\\u0947\\u0917\\u093e \\u0964\"\n        ],\n        \"semantic_type\": \"\",\n        \"description\": \"\"\n      }\n    }\n  ]\n}",
       "type": "dataframe",
       "variable_name": "test_df"
      },
      "text/html": [
       "\n",
       "  <div id=\"df-79e3f515-1e35-4f72-9473-3bb3f7b379ac\" class=\"colab-df-container\">\n",
       "    <div>\n",
       "<style scoped>\n",
       "    .dataframe tbody tr th:only-of-type {\n",
       "        vertical-align: middle;\n",
       "    }\n",
       "\n",
       "    .dataframe tbody tr th {\n",
       "        vertical-align: top;\n",
       "    }\n",
       "\n",
       "    .dataframe thead th {\n",
       "        text-align: right;\n",
       "    }\n",
       "</style>\n",
       "<table border=\"1\" class=\"dataframe\">\n",
       "  <thead>\n",
       "    <tr style=\"text-align: right;\">\n",
       "      <th></th>\n",
       "      <th>Label</th>\n",
       "      <th>Text</th>\n",
       "    </tr>\n",
       "  </thead>\n",
       "  <tbody>\n",
       "    <tr>\n",
       "      <th>0</th>\n",
       "      <td>neutral</td>\n",
       "      <td>मगर , इस तरफ कोई ध्यान नहीं दिया जा रहा ।</td>\n",
       "    </tr>\n",
       "    <tr>\n",
       "      <th>1</th>\n",
       "      <td>negative</td>\n",
       "      <td>गेम कई बार मुश्किल मालूम देता है ।</td>\n",
       "    </tr>\n",
       "    <tr>\n",
       "      <th>2</th>\n",
       "      <td>negative</td>\n",
       "      <td>मल्टीप्लेयर में छोटी स्टोरीलाइन है ।</td>\n",
       "    </tr>\n",
       "    <tr>\n",
       "      <th>3</th>\n",
       "      <td>positive</td>\n",
       "      <td>हाई - एंड एचपी नोटबुक्स की लुक्स हमेशा बेहतरीन...</td>\n",
       "    </tr>\n",
       "    <tr>\n",
       "      <th>4</th>\n",
       "      <td>positive</td>\n",
       "      <td>कैमरे बनाने वाली कंपनी निकोन अपनी 1 सीरीज कैमर...</td>\n",
       "    </tr>\n",
       "  </tbody>\n",
       "</table>\n",
       "</div>\n",
       "    <div class=\"colab-df-buttons\">\n",
       "\n",
       "  <div class=\"colab-df-container\">\n",
       "    <button class=\"colab-df-convert\" onclick=\"convertToInteractive('df-79e3f515-1e35-4f72-9473-3bb3f7b379ac')\"\n",
       "            title=\"Convert this dataframe to an interactive table.\"\n",
       "            style=\"display:none;\">\n",
       "\n",
       "  <svg xmlns=\"http://www.w3.org/2000/svg\" height=\"24px\" viewBox=\"0 -960 960 960\">\n",
       "    <path d=\"M120-120v-720h720v720H120Zm60-500h600v-160H180v160Zm220 220h160v-160H400v160Zm0 220h160v-160H400v160ZM180-400h160v-160H180v160Zm440 0h160v-160H620v160ZM180-180h160v-160H180v160Zm440 0h160v-160H620v160Z\"/>\n",
       "  </svg>\n",
       "    </button>\n",
       "\n",
       "  <style>\n",
       "    .colab-df-container {\n",
       "      display:flex;\n",
       "      gap: 12px;\n",
       "    }\n",
       "\n",
       "    .colab-df-convert {\n",
       "      background-color: #E8F0FE;\n",
       "      border: none;\n",
       "      border-radius: 50%;\n",
       "      cursor: pointer;\n",
       "      display: none;\n",
       "      fill: #1967D2;\n",
       "      height: 32px;\n",
       "      padding: 0 0 0 0;\n",
       "      width: 32px;\n",
       "    }\n",
       "\n",
       "    .colab-df-convert:hover {\n",
       "      background-color: #E2EBFA;\n",
       "      box-shadow: 0px 1px 2px rgba(60, 64, 67, 0.3), 0px 1px 3px 1px rgba(60, 64, 67, 0.15);\n",
       "      fill: #174EA6;\n",
       "    }\n",
       "\n",
       "    .colab-df-buttons div {\n",
       "      margin-bottom: 4px;\n",
       "    }\n",
       "\n",
       "    [theme=dark] .colab-df-convert {\n",
       "      background-color: #3B4455;\n",
       "      fill: #D2E3FC;\n",
       "    }\n",
       "\n",
       "    [theme=dark] .colab-df-convert:hover {\n",
       "      background-color: #434B5C;\n",
       "      box-shadow: 0px 1px 3px 1px rgba(0, 0, 0, 0.15);\n",
       "      filter: drop-shadow(0px 1px 2px rgba(0, 0, 0, 0.3));\n",
       "      fill: #FFFFFF;\n",
       "    }\n",
       "  </style>\n",
       "\n",
       "    <script>\n",
       "      const buttonEl =\n",
       "        document.querySelector('#df-79e3f515-1e35-4f72-9473-3bb3f7b379ac button.colab-df-convert');\n",
       "      buttonEl.style.display =\n",
       "        google.colab.kernel.accessAllowed ? 'block' : 'none';\n",
       "\n",
       "      async function convertToInteractive(key) {\n",
       "        const element = document.querySelector('#df-79e3f515-1e35-4f72-9473-3bb3f7b379ac');\n",
       "        const dataTable =\n",
       "          await google.colab.kernel.invokeFunction('convertToInteractive',\n",
       "                                                    [key], {});\n",
       "        if (!dataTable) return;\n",
       "\n",
       "        const docLinkHtml = 'Like what you see? Visit the ' +\n",
       "          '<a target=\"_blank\" href=https://colab.research.google.com/notebooks/data_table.ipynb>data table notebook</a>'\n",
       "          + ' to learn more about interactive tables.';\n",
       "        element.innerHTML = '';\n",
       "        dataTable['output_type'] = 'display_data';\n",
       "        await google.colab.output.renderOutput(dataTable, element);\n",
       "        const docLink = document.createElement('div');\n",
       "        docLink.innerHTML = docLinkHtml;\n",
       "        element.appendChild(docLink);\n",
       "      }\n",
       "    </script>\n",
       "  </div>\n",
       "\n",
       "\n",
       "<div id=\"df-9b52947a-fcf9-4244-a757-169791834c3a\">\n",
       "  <button class=\"colab-df-quickchart\" onclick=\"quickchart('df-9b52947a-fcf9-4244-a757-169791834c3a')\"\n",
       "            title=\"Suggest charts\"\n",
       "            style=\"display:none;\">\n",
       "\n",
       "<svg xmlns=\"http://www.w3.org/2000/svg\" height=\"24px\"viewBox=\"0 0 24 24\"\n",
       "     width=\"24px\">\n",
       "    <g>\n",
       "        <path d=\"M19 3H5c-1.1 0-2 .9-2 2v14c0 1.1.9 2 2 2h14c1.1 0 2-.9 2-2V5c0-1.1-.9-2-2-2zM9 17H7v-7h2v7zm4 0h-2V7h2v10zm4 0h-2v-4h2v4z\"/>\n",
       "    </g>\n",
       "</svg>\n",
       "  </button>\n",
       "\n",
       "<style>\n",
       "  .colab-df-quickchart {\n",
       "      --bg-color: #E8F0FE;\n",
       "      --fill-color: #1967D2;\n",
       "      --hover-bg-color: #E2EBFA;\n",
       "      --hover-fill-color: #174EA6;\n",
       "      --disabled-fill-color: #AAA;\n",
       "      --disabled-bg-color: #DDD;\n",
       "  }\n",
       "\n",
       "  [theme=dark] .colab-df-quickchart {\n",
       "      --bg-color: #3B4455;\n",
       "      --fill-color: #D2E3FC;\n",
       "      --hover-bg-color: #434B5C;\n",
       "      --hover-fill-color: #FFFFFF;\n",
       "      --disabled-bg-color: #3B4455;\n",
       "      --disabled-fill-color: #666;\n",
       "  }\n",
       "\n",
       "  .colab-df-quickchart {\n",
       "    background-color: var(--bg-color);\n",
       "    border: none;\n",
       "    border-radius: 50%;\n",
       "    cursor: pointer;\n",
       "    display: none;\n",
       "    fill: var(--fill-color);\n",
       "    height: 32px;\n",
       "    padding: 0;\n",
       "    width: 32px;\n",
       "  }\n",
       "\n",
       "  .colab-df-quickchart:hover {\n",
       "    background-color: var(--hover-bg-color);\n",
       "    box-shadow: 0 1px 2px rgba(60, 64, 67, 0.3), 0 1px 3px 1px rgba(60, 64, 67, 0.15);\n",
       "    fill: var(--button-hover-fill-color);\n",
       "  }\n",
       "\n",
       "  .colab-df-quickchart-complete:disabled,\n",
       "  .colab-df-quickchart-complete:disabled:hover {\n",
       "    background-color: var(--disabled-bg-color);\n",
       "    fill: var(--disabled-fill-color);\n",
       "    box-shadow: none;\n",
       "  }\n",
       "\n",
       "  .colab-df-spinner {\n",
       "    border: 2px solid var(--fill-color);\n",
       "    border-color: transparent;\n",
       "    border-bottom-color: var(--fill-color);\n",
       "    animation:\n",
       "      spin 1s steps(1) infinite;\n",
       "  }\n",
       "\n",
       "  @keyframes spin {\n",
       "    0% {\n",
       "      border-color: transparent;\n",
       "      border-bottom-color: var(--fill-color);\n",
       "      border-left-color: var(--fill-color);\n",
       "    }\n",
       "    20% {\n",
       "      border-color: transparent;\n",
       "      border-left-color: var(--fill-color);\n",
       "      border-top-color: var(--fill-color);\n",
       "    }\n",
       "    30% {\n",
       "      border-color: transparent;\n",
       "      border-left-color: var(--fill-color);\n",
       "      border-top-color: var(--fill-color);\n",
       "      border-right-color: var(--fill-color);\n",
       "    }\n",
       "    40% {\n",
       "      border-color: transparent;\n",
       "      border-right-color: var(--fill-color);\n",
       "      border-top-color: var(--fill-color);\n",
       "    }\n",
       "    60% {\n",
       "      border-color: transparent;\n",
       "      border-right-color: var(--fill-color);\n",
       "    }\n",
       "    80% {\n",
       "      border-color: transparent;\n",
       "      border-right-color: var(--fill-color);\n",
       "      border-bottom-color: var(--fill-color);\n",
       "    }\n",
       "    90% {\n",
       "      border-color: transparent;\n",
       "      border-bottom-color: var(--fill-color);\n",
       "    }\n",
       "  }\n",
       "</style>\n",
       "\n",
       "  <script>\n",
       "    async function quickchart(key) {\n",
       "      const quickchartButtonEl =\n",
       "        document.querySelector('#' + key + ' button');\n",
       "      quickchartButtonEl.disabled = true;  // To prevent multiple clicks.\n",
       "      quickchartButtonEl.classList.add('colab-df-spinner');\n",
       "      try {\n",
       "        const charts = await google.colab.kernel.invokeFunction(\n",
       "            'suggestCharts', [key], {});\n",
       "      } catch (error) {\n",
       "        console.error('Error during call to suggestCharts:', error);\n",
       "      }\n",
       "      quickchartButtonEl.classList.remove('colab-df-spinner');\n",
       "      quickchartButtonEl.classList.add('colab-df-quickchart-complete');\n",
       "    }\n",
       "    (() => {\n",
       "      let quickchartButtonEl =\n",
       "        document.querySelector('#df-9b52947a-fcf9-4244-a757-169791834c3a button');\n",
       "      quickchartButtonEl.style.display =\n",
       "        google.colab.kernel.accessAllowed ? 'block' : 'none';\n",
       "    })();\n",
       "  </script>\n",
       "</div>\n",
       "\n",
       "    </div>\n",
       "  </div>\n"
      ],
      "text/plain": [
       "      Label                                               Text\n",
       "0   neutral          मगर , इस तरफ कोई ध्यान नहीं दिया जा रहा ।\n",
       "1  negative                 गेम कई बार मुश्किल मालूम देता है ।\n",
       "2  negative               मल्टीप्लेयर में छोटी स्टोरीलाइन है ।\n",
       "3  positive  हाई - एंड एचपी नोटबुक्स की लुक्स हमेशा बेहतरीन...\n",
       "4  positive  कैमरे बनाने वाली कंपनी निकोन अपनी 1 सीरीज कैमर..."
      ]
     },
     "execution_count": 4,
     "metadata": {},
     "output_type": "execute_result"
    }
   ],
   "source": [
    "\n",
    "train_df = pd.read_csv(train_path, header=None, names=['Label', 'Text'])\n",
    "\n",
    "test_df = pd.read_csv(test_path, header=None, names=['Label', 'Text'])\n",
    "syn_df = pd.read_csv(syn_path, header=None, names=['Label', 'Text'])\n",
    "test_df.head()\n",
    "\n"
   ]
  },
  {
   "cell_type": "code",
   "execution_count": null,
   "metadata": {
    "colab": {
     "base_uri": "https://localhost:8080/",
     "height": 206
    },
    "executionInfo": {
     "elapsed": 9,
     "status": "ok",
     "timestamp": 1714906558513,
     "user": {
      "displayName": "Gaurang Patil",
      "userId": "15668632964256625578"
     },
     "user_tz": -330
    },
    "id": "jmRjH1M251Ql",
    "outputId": "ce78a798-4ccf-4499-f752-e87b37ba7d1e"
   },
   "outputs": [
    {
     "data": {
      "application/vnd.google.colaboratory.intrinsic+json": {
       "summary": "{\n  \"name\": \"syn_df\",\n  \"rows\": 523,\n  \"fields\": [\n    {\n      \"column\": \"Label\",\n      \"properties\": {\n        \"dtype\": \"category\",\n        \"num_unique_values\": 3,\n        \"samples\": [\n          \"neutral\",\n          \"negative\",\n          \"positive\"\n        ],\n        \"semantic_type\": \"\",\n        \"description\": \"\"\n      }\n    },\n    {\n      \"column\": \"Text\",\n      \"properties\": {\n        \"dtype\": \"string\",\n        \"num_unique_values\": 523,\n        \"samples\": [\n          \"\\u0907\\u092e\\u0947\\u091c \\u0924\\u0925\\u093e \\u0935\\u0940\\u0921\\u093f\\u092f\\u094b \\u0935\\u093e\\u0938\\u094d\\u0924\\u0935 \\u092e\\u0947\\u0902 \\u0905\\u091a\\u094d\\u091b\\u0947 \\u0906\\u0924\\u0947 \\u0939\\u0948 \\u0964\",\n          \"\\u0905\\u0917\\u0930 \\u0906\\u092a \\u092b\\u0942\\u0932\\u094b\\u0902 \\u0915\\u0947 \\u0936\\u094c\\u0915\\u0940\\u0928 \\u0939\\u0948 \\u0914\\u0930 \\u0915\\u0936\\u094d\\u092e\\u0940\\u0930 \\u091c\\u093e\\u0928\\u0947 \\u0915\\u093e \\u092a\\u094d\\u0932\\u093e\\u0928 \\u092c\\u0928\\u093e \\u0930\\u0939\\u0947 \\u0939\\u0948 \\u0924\\u094b \\u0926\\u0947\\u0930 \\u092e\\u0924 \\u0915\\u0930\\u093f\\u090f \\u0964\",\n          \"\\u092b\\u0947\\u0938\\u092c\\u0941\\u0915 \\u0915\\u093e \\u0938\\u093f\\u0915\\u094d\\u092f\\u094b\\u0930\\u093f\\u091f\\u0940 \\u091a\\u0948\\u0915\\u0905\\u092a \\u092b\\u0940\\u091a\\u0930 \\u092a\\u0949\\u092a\\u0905\\u092a \\u0915\\u0947 \\u091c\\u0948\\u0938\\u093e \\u092f\\u0942\\u091c\\u0930\\u094d\\u0938 \\u0915\\u094b \\u0926\\u093f\\u0916\\u093e\\u0907 \\u0926\\u0947\\u0917\\u093e \\u0964\"\n        ],\n        \"semantic_type\": \"\",\n        \"description\": \"\"\n      }\n    }\n  ]\n}",
       "type": "dataframe",
       "variable_name": "syn_df"
      },
      "text/html": [
       "\n",
       "  <div id=\"df-53cbe751-0f72-4fa3-a96a-4a27730e4d4f\" class=\"colab-df-container\">\n",
       "    <div>\n",
       "<style scoped>\n",
       "    .dataframe tbody tr th:only-of-type {\n",
       "        vertical-align: middle;\n",
       "    }\n",
       "\n",
       "    .dataframe tbody tr th {\n",
       "        vertical-align: top;\n",
       "    }\n",
       "\n",
       "    .dataframe thead th {\n",
       "        text-align: right;\n",
       "    }\n",
       "</style>\n",
       "<table border=\"1\" class=\"dataframe\">\n",
       "  <thead>\n",
       "    <tr style=\"text-align: right;\">\n",
       "      <th></th>\n",
       "      <th>Label</th>\n",
       "      <th>Text</th>\n",
       "    </tr>\n",
       "  </thead>\n",
       "  <tbody>\n",
       "    <tr>\n",
       "      <th>0</th>\n",
       "      <td>neutral</td>\n",
       "      <td>मगर , इस तरफ कोई  नज़र नहीं दी जा रही ।</td>\n",
       "    </tr>\n",
       "    <tr>\n",
       "      <th>1</th>\n",
       "      <td>negative</td>\n",
       "      <td>गेम कई बार कठिन मालूम देता है ।</td>\n",
       "    </tr>\n",
       "    <tr>\n",
       "      <th>2</th>\n",
       "      <td>negative</td>\n",
       "      <td>मल्टीप्लेयर में  लघु स्टोरीलाइन है ।</td>\n",
       "    </tr>\n",
       "    <tr>\n",
       "      <th>3</th>\n",
       "      <td>positive</td>\n",
       "      <td>हाई - एंड एचपी नोटबुक्स की लुक्स हमेशा उत्तम ह...</td>\n",
       "    </tr>\n",
       "    <tr>\n",
       "      <th>4</th>\n",
       "      <td>positive</td>\n",
       "      <td>कैमरे बनाने वाली कंपनी निकोन अपनी 1 सीरीज कैमर...</td>\n",
       "    </tr>\n",
       "  </tbody>\n",
       "</table>\n",
       "</div>\n",
       "    <div class=\"colab-df-buttons\">\n",
       "\n",
       "  <div class=\"colab-df-container\">\n",
       "    <button class=\"colab-df-convert\" onclick=\"convertToInteractive('df-53cbe751-0f72-4fa3-a96a-4a27730e4d4f')\"\n",
       "            title=\"Convert this dataframe to an interactive table.\"\n",
       "            style=\"display:none;\">\n",
       "\n",
       "  <svg xmlns=\"http://www.w3.org/2000/svg\" height=\"24px\" viewBox=\"0 -960 960 960\">\n",
       "    <path d=\"M120-120v-720h720v720H120Zm60-500h600v-160H180v160Zm220 220h160v-160H400v160Zm0 220h160v-160H400v160ZM180-400h160v-160H180v160Zm440 0h160v-160H620v160ZM180-180h160v-160H180v160Zm440 0h160v-160H620v160Z\"/>\n",
       "  </svg>\n",
       "    </button>\n",
       "\n",
       "  <style>\n",
       "    .colab-df-container {\n",
       "      display:flex;\n",
       "      gap: 12px;\n",
       "    }\n",
       "\n",
       "    .colab-df-convert {\n",
       "      background-color: #E8F0FE;\n",
       "      border: none;\n",
       "      border-radius: 50%;\n",
       "      cursor: pointer;\n",
       "      display: none;\n",
       "      fill: #1967D2;\n",
       "      height: 32px;\n",
       "      padding: 0 0 0 0;\n",
       "      width: 32px;\n",
       "    }\n",
       "\n",
       "    .colab-df-convert:hover {\n",
       "      background-color: #E2EBFA;\n",
       "      box-shadow: 0px 1px 2px rgba(60, 64, 67, 0.3), 0px 1px 3px 1px rgba(60, 64, 67, 0.15);\n",
       "      fill: #174EA6;\n",
       "    }\n",
       "\n",
       "    .colab-df-buttons div {\n",
       "      margin-bottom: 4px;\n",
       "    }\n",
       "\n",
       "    [theme=dark] .colab-df-convert {\n",
       "      background-color: #3B4455;\n",
       "      fill: #D2E3FC;\n",
       "    }\n",
       "\n",
       "    [theme=dark] .colab-df-convert:hover {\n",
       "      background-color: #434B5C;\n",
       "      box-shadow: 0px 1px 3px 1px rgba(0, 0, 0, 0.15);\n",
       "      filter: drop-shadow(0px 1px 2px rgba(0, 0, 0, 0.3));\n",
       "      fill: #FFFFFF;\n",
       "    }\n",
       "  </style>\n",
       "\n",
       "    <script>\n",
       "      const buttonEl =\n",
       "        document.querySelector('#df-53cbe751-0f72-4fa3-a96a-4a27730e4d4f button.colab-df-convert');\n",
       "      buttonEl.style.display =\n",
       "        google.colab.kernel.accessAllowed ? 'block' : 'none';\n",
       "\n",
       "      async function convertToInteractive(key) {\n",
       "        const element = document.querySelector('#df-53cbe751-0f72-4fa3-a96a-4a27730e4d4f');\n",
       "        const dataTable =\n",
       "          await google.colab.kernel.invokeFunction('convertToInteractive',\n",
       "                                                    [key], {});\n",
       "        if (!dataTable) return;\n",
       "\n",
       "        const docLinkHtml = 'Like what you see? Visit the ' +\n",
       "          '<a target=\"_blank\" href=https://colab.research.google.com/notebooks/data_table.ipynb>data table notebook</a>'\n",
       "          + ' to learn more about interactive tables.';\n",
       "        element.innerHTML = '';\n",
       "        dataTable['output_type'] = 'display_data';\n",
       "        await google.colab.output.renderOutput(dataTable, element);\n",
       "        const docLink = document.createElement('div');\n",
       "        docLink.innerHTML = docLinkHtml;\n",
       "        element.appendChild(docLink);\n",
       "      }\n",
       "    </script>\n",
       "  </div>\n",
       "\n",
       "\n",
       "<div id=\"df-26419fa4-fb06-4f4c-949c-0aeac9458c8a\">\n",
       "  <button class=\"colab-df-quickchart\" onclick=\"quickchart('df-26419fa4-fb06-4f4c-949c-0aeac9458c8a')\"\n",
       "            title=\"Suggest charts\"\n",
       "            style=\"display:none;\">\n",
       "\n",
       "<svg xmlns=\"http://www.w3.org/2000/svg\" height=\"24px\"viewBox=\"0 0 24 24\"\n",
       "     width=\"24px\">\n",
       "    <g>\n",
       "        <path d=\"M19 3H5c-1.1 0-2 .9-2 2v14c0 1.1.9 2 2 2h14c1.1 0 2-.9 2-2V5c0-1.1-.9-2-2-2zM9 17H7v-7h2v7zm4 0h-2V7h2v10zm4 0h-2v-4h2v4z\"/>\n",
       "    </g>\n",
       "</svg>\n",
       "  </button>\n",
       "\n",
       "<style>\n",
       "  .colab-df-quickchart {\n",
       "      --bg-color: #E8F0FE;\n",
       "      --fill-color: #1967D2;\n",
       "      --hover-bg-color: #E2EBFA;\n",
       "      --hover-fill-color: #174EA6;\n",
       "      --disabled-fill-color: #AAA;\n",
       "      --disabled-bg-color: #DDD;\n",
       "  }\n",
       "\n",
       "  [theme=dark] .colab-df-quickchart {\n",
       "      --bg-color: #3B4455;\n",
       "      --fill-color: #D2E3FC;\n",
       "      --hover-bg-color: #434B5C;\n",
       "      --hover-fill-color: #FFFFFF;\n",
       "      --disabled-bg-color: #3B4455;\n",
       "      --disabled-fill-color: #666;\n",
       "  }\n",
       "\n",
       "  .colab-df-quickchart {\n",
       "    background-color: var(--bg-color);\n",
       "    border: none;\n",
       "    border-radius: 50%;\n",
       "    cursor: pointer;\n",
       "    display: none;\n",
       "    fill: var(--fill-color);\n",
       "    height: 32px;\n",
       "    padding: 0;\n",
       "    width: 32px;\n",
       "  }\n",
       "\n",
       "  .colab-df-quickchart:hover {\n",
       "    background-color: var(--hover-bg-color);\n",
       "    box-shadow: 0 1px 2px rgba(60, 64, 67, 0.3), 0 1px 3px 1px rgba(60, 64, 67, 0.15);\n",
       "    fill: var(--button-hover-fill-color);\n",
       "  }\n",
       "\n",
       "  .colab-df-quickchart-complete:disabled,\n",
       "  .colab-df-quickchart-complete:disabled:hover {\n",
       "    background-color: var(--disabled-bg-color);\n",
       "    fill: var(--disabled-fill-color);\n",
       "    box-shadow: none;\n",
       "  }\n",
       "\n",
       "  .colab-df-spinner {\n",
       "    border: 2px solid var(--fill-color);\n",
       "    border-color: transparent;\n",
       "    border-bottom-color: var(--fill-color);\n",
       "    animation:\n",
       "      spin 1s steps(1) infinite;\n",
       "  }\n",
       "\n",
       "  @keyframes spin {\n",
       "    0% {\n",
       "      border-color: transparent;\n",
       "      border-bottom-color: var(--fill-color);\n",
       "      border-left-color: var(--fill-color);\n",
       "    }\n",
       "    20% {\n",
       "      border-color: transparent;\n",
       "      border-left-color: var(--fill-color);\n",
       "      border-top-color: var(--fill-color);\n",
       "    }\n",
       "    30% {\n",
       "      border-color: transparent;\n",
       "      border-left-color: var(--fill-color);\n",
       "      border-top-color: var(--fill-color);\n",
       "      border-right-color: var(--fill-color);\n",
       "    }\n",
       "    40% {\n",
       "      border-color: transparent;\n",
       "      border-right-color: var(--fill-color);\n",
       "      border-top-color: var(--fill-color);\n",
       "    }\n",
       "    60% {\n",
       "      border-color: transparent;\n",
       "      border-right-color: var(--fill-color);\n",
       "    }\n",
       "    80% {\n",
       "      border-color: transparent;\n",
       "      border-right-color: var(--fill-color);\n",
       "      border-bottom-color: var(--fill-color);\n",
       "    }\n",
       "    90% {\n",
       "      border-color: transparent;\n",
       "      border-bottom-color: var(--fill-color);\n",
       "    }\n",
       "  }\n",
       "</style>\n",
       "\n",
       "  <script>\n",
       "    async function quickchart(key) {\n",
       "      const quickchartButtonEl =\n",
       "        document.querySelector('#' + key + ' button');\n",
       "      quickchartButtonEl.disabled = true;  // To prevent multiple clicks.\n",
       "      quickchartButtonEl.classList.add('colab-df-spinner');\n",
       "      try {\n",
       "        const charts = await google.colab.kernel.invokeFunction(\n",
       "            'suggestCharts', [key], {});\n",
       "      } catch (error) {\n",
       "        console.error('Error during call to suggestCharts:', error);\n",
       "      }\n",
       "      quickchartButtonEl.classList.remove('colab-df-spinner');\n",
       "      quickchartButtonEl.classList.add('colab-df-quickchart-complete');\n",
       "    }\n",
       "    (() => {\n",
       "      let quickchartButtonEl =\n",
       "        document.querySelector('#df-26419fa4-fb06-4f4c-949c-0aeac9458c8a button');\n",
       "      quickchartButtonEl.style.display =\n",
       "        google.colab.kernel.accessAllowed ? 'block' : 'none';\n",
       "    })();\n",
       "  </script>\n",
       "</div>\n",
       "\n",
       "    </div>\n",
       "  </div>\n"
      ],
      "text/plain": [
       "      Label                                               Text\n",
       "0   neutral            मगर , इस तरफ कोई  नज़र नहीं दी जा रही ।\n",
       "1  negative                    गेम कई बार कठिन मालूम देता है ।\n",
       "2  negative               मल्टीप्लेयर में  लघु स्टोरीलाइन है ।\n",
       "3  positive  हाई - एंड एचपी नोटबुक्स की लुक्स हमेशा उत्तम ह...\n",
       "4  positive  कैमरे बनाने वाली कंपनी निकोन अपनी 1 सीरीज कैमर..."
      ]
     },
     "execution_count": 5,
     "metadata": {},
     "output_type": "execute_result"
    }
   ],
   "source": [
    "syn_df.head()\n"
   ]
  },
  {
   "cell_type": "code",
   "execution_count": null,
   "metadata": {
    "id": "g8KLlcVE2QBe"
   },
   "outputs": [],
   "source": []
  },
  {
   "cell_type": "code",
   "execution_count": null,
   "metadata": {
    "colab": {
     "base_uri": "https://localhost:8080/",
     "height": 206
    },
    "execution": {
     "iopub.status.busy": "2024-04-10T05:20:39.216209Z",
     "iopub.status.idle": "2024-04-10T05:20:39.217153Z",
     "shell.execute_reply": "2024-04-10T05:20:39.216875Z",
     "shell.execute_reply.started": "2024-04-10T05:20:39.216852Z"
    },
    "executionInfo": {
     "elapsed": 481,
     "status": "ok",
     "timestamp": 1714906558987,
     "user": {
      "displayName": "Gaurang Patil",
      "userId": "15668632964256625578"
     },
     "user_tz": -330
    },
    "id": "yZexhF7SWR-l",
    "outputId": "4f3de77e-02d0-4f6b-a90b-ced92ae5b417"
   },
   "outputs": [
    {
     "data": {
      "application/vnd.google.colaboratory.intrinsic+json": {
       "summary": "{\n  \"name\": \"test_df\",\n  \"rows\": 523,\n  \"fields\": [\n    {\n      \"column\": \"Label\",\n      \"properties\": {\n        \"dtype\": \"number\",\n        \"std\": 0,\n        \"min\": 0,\n        \"max\": 2,\n        \"num_unique_values\": 3,\n        \"samples\": [\n          1,\n          0,\n          2\n        ],\n        \"semantic_type\": \"\",\n        \"description\": \"\"\n      }\n    },\n    {\n      \"column\": \"Text\",\n      \"properties\": {\n        \"dtype\": \"string\",\n        \"num_unique_values\": 523,\n        \"samples\": [\n          \"\\u0907\\u092e\\u0947\\u091c \\u0924\\u0925\\u093e \\u0935\\u0940\\u0921\\u093f\\u092f\\u094b \\u0935\\u093e\\u0938\\u094d\\u0924\\u0935 \\u092e\\u0947\\u0902 \\u0905\\u091a\\u094d\\u091b\\u0947 \\u0906\\u0924\\u0947 \\u0939\\u0948 \\u0964\",\n          \"\\u0905\\u0917\\u0930 \\u0906\\u092a \\u092b\\u0942\\u0932\\u094b\\u0902 \\u0915\\u0947 \\u0936\\u094c\\u0915\\u0940\\u0928 \\u0939\\u0948 \\u0914\\u0930 \\u0915\\u0936\\u094d\\u092e\\u0940\\u0930 \\u091c\\u093e\\u0928\\u0947 \\u0915\\u093e \\u092a\\u094d\\u0932\\u093e\\u0928 \\u092c\\u0928\\u093e \\u0930\\u0939\\u0947 \\u0939\\u0948 \\u0924\\u094b \\u0926\\u0947\\u0930 \\u092e\\u0924 \\u0915\\u0930\\u093f\\u090f \\u0964\",\n          \"\\u092b\\u0947\\u0938\\u092c\\u0941\\u0915 \\u0915\\u093e \\u0938\\u093f\\u0915\\u094d\\u092f\\u094b\\u0930\\u093f\\u091f\\u0940 \\u091a\\u0948\\u0915\\u0905\\u092a \\u092b\\u0940\\u091a\\u0930 \\u092a\\u0949\\u092a\\u0905\\u092a \\u0915\\u0940 \\u0924\\u0930\\u0939 \\u092f\\u0942\\u091c\\u0930\\u094d\\u0938 \\u0915\\u094b \\u0926\\u093f\\u0916\\u093e\\u0907 \\u0926\\u0947\\u0917\\u093e \\u0964\"\n        ],\n        \"semantic_type\": \"\",\n        \"description\": \"\"\n      }\n    }\n  ]\n}",
       "type": "dataframe",
       "variable_name": "test_df"
      },
      "text/html": [
       "\n",
       "  <div id=\"df-f2ba4c60-3045-4b5f-9ec6-66ca424310a8\" class=\"colab-df-container\">\n",
       "    <div>\n",
       "<style scoped>\n",
       "    .dataframe tbody tr th:only-of-type {\n",
       "        vertical-align: middle;\n",
       "    }\n",
       "\n",
       "    .dataframe tbody tr th {\n",
       "        vertical-align: top;\n",
       "    }\n",
       "\n",
       "    .dataframe thead th {\n",
       "        text-align: right;\n",
       "    }\n",
       "</style>\n",
       "<table border=\"1\" class=\"dataframe\">\n",
       "  <thead>\n",
       "    <tr style=\"text-align: right;\">\n",
       "      <th></th>\n",
       "      <th>Label</th>\n",
       "      <th>Text</th>\n",
       "    </tr>\n",
       "  </thead>\n",
       "  <tbody>\n",
       "    <tr>\n",
       "      <th>0</th>\n",
       "      <td>1</td>\n",
       "      <td>मगर , इस तरफ कोई ध्यान नहीं दिया जा रहा ।</td>\n",
       "    </tr>\n",
       "    <tr>\n",
       "      <th>1</th>\n",
       "      <td>0</td>\n",
       "      <td>गेम कई बार मुश्किल मालूम देता है ।</td>\n",
       "    </tr>\n",
       "    <tr>\n",
       "      <th>2</th>\n",
       "      <td>0</td>\n",
       "      <td>मल्टीप्लेयर में छोटी स्टोरीलाइन है ।</td>\n",
       "    </tr>\n",
       "    <tr>\n",
       "      <th>3</th>\n",
       "      <td>2</td>\n",
       "      <td>हाई - एंड एचपी नोटबुक्स की लुक्स हमेशा बेहतरीन...</td>\n",
       "    </tr>\n",
       "    <tr>\n",
       "      <th>4</th>\n",
       "      <td>2</td>\n",
       "      <td>कैमरे बनाने वाली कंपनी निकोन अपनी 1 सीरीज कैमर...</td>\n",
       "    </tr>\n",
       "  </tbody>\n",
       "</table>\n",
       "</div>\n",
       "    <div class=\"colab-df-buttons\">\n",
       "\n",
       "  <div class=\"colab-df-container\">\n",
       "    <button class=\"colab-df-convert\" onclick=\"convertToInteractive('df-f2ba4c60-3045-4b5f-9ec6-66ca424310a8')\"\n",
       "            title=\"Convert this dataframe to an interactive table.\"\n",
       "            style=\"display:none;\">\n",
       "\n",
       "  <svg xmlns=\"http://www.w3.org/2000/svg\" height=\"24px\" viewBox=\"0 -960 960 960\">\n",
       "    <path d=\"M120-120v-720h720v720H120Zm60-500h600v-160H180v160Zm220 220h160v-160H400v160Zm0 220h160v-160H400v160ZM180-400h160v-160H180v160Zm440 0h160v-160H620v160ZM180-180h160v-160H180v160Zm440 0h160v-160H620v160Z\"/>\n",
       "  </svg>\n",
       "    </button>\n",
       "\n",
       "  <style>\n",
       "    .colab-df-container {\n",
       "      display:flex;\n",
       "      gap: 12px;\n",
       "    }\n",
       "\n",
       "    .colab-df-convert {\n",
       "      background-color: #E8F0FE;\n",
       "      border: none;\n",
       "      border-radius: 50%;\n",
       "      cursor: pointer;\n",
       "      display: none;\n",
       "      fill: #1967D2;\n",
       "      height: 32px;\n",
       "      padding: 0 0 0 0;\n",
       "      width: 32px;\n",
       "    }\n",
       "\n",
       "    .colab-df-convert:hover {\n",
       "      background-color: #E2EBFA;\n",
       "      box-shadow: 0px 1px 2px rgba(60, 64, 67, 0.3), 0px 1px 3px 1px rgba(60, 64, 67, 0.15);\n",
       "      fill: #174EA6;\n",
       "    }\n",
       "\n",
       "    .colab-df-buttons div {\n",
       "      margin-bottom: 4px;\n",
       "    }\n",
       "\n",
       "    [theme=dark] .colab-df-convert {\n",
       "      background-color: #3B4455;\n",
       "      fill: #D2E3FC;\n",
       "    }\n",
       "\n",
       "    [theme=dark] .colab-df-convert:hover {\n",
       "      background-color: #434B5C;\n",
       "      box-shadow: 0px 1px 3px 1px rgba(0, 0, 0, 0.15);\n",
       "      filter: drop-shadow(0px 1px 2px rgba(0, 0, 0, 0.3));\n",
       "      fill: #FFFFFF;\n",
       "    }\n",
       "  </style>\n",
       "\n",
       "    <script>\n",
       "      const buttonEl =\n",
       "        document.querySelector('#df-f2ba4c60-3045-4b5f-9ec6-66ca424310a8 button.colab-df-convert');\n",
       "      buttonEl.style.display =\n",
       "        google.colab.kernel.accessAllowed ? 'block' : 'none';\n",
       "\n",
       "      async function convertToInteractive(key) {\n",
       "        const element = document.querySelector('#df-f2ba4c60-3045-4b5f-9ec6-66ca424310a8');\n",
       "        const dataTable =\n",
       "          await google.colab.kernel.invokeFunction('convertToInteractive',\n",
       "                                                    [key], {});\n",
       "        if (!dataTable) return;\n",
       "\n",
       "        const docLinkHtml = 'Like what you see? Visit the ' +\n",
       "          '<a target=\"_blank\" href=https://colab.research.google.com/notebooks/data_table.ipynb>data table notebook</a>'\n",
       "          + ' to learn more about interactive tables.';\n",
       "        element.innerHTML = '';\n",
       "        dataTable['output_type'] = 'display_data';\n",
       "        await google.colab.output.renderOutput(dataTable, element);\n",
       "        const docLink = document.createElement('div');\n",
       "        docLink.innerHTML = docLinkHtml;\n",
       "        element.appendChild(docLink);\n",
       "      }\n",
       "    </script>\n",
       "  </div>\n",
       "\n",
       "\n",
       "<div id=\"df-5e741943-128e-4ae3-b18b-9c659ce30061\">\n",
       "  <button class=\"colab-df-quickchart\" onclick=\"quickchart('df-5e741943-128e-4ae3-b18b-9c659ce30061')\"\n",
       "            title=\"Suggest charts\"\n",
       "            style=\"display:none;\">\n",
       "\n",
       "<svg xmlns=\"http://www.w3.org/2000/svg\" height=\"24px\"viewBox=\"0 0 24 24\"\n",
       "     width=\"24px\">\n",
       "    <g>\n",
       "        <path d=\"M19 3H5c-1.1 0-2 .9-2 2v14c0 1.1.9 2 2 2h14c1.1 0 2-.9 2-2V5c0-1.1-.9-2-2-2zM9 17H7v-7h2v7zm4 0h-2V7h2v10zm4 0h-2v-4h2v4z\"/>\n",
       "    </g>\n",
       "</svg>\n",
       "  </button>\n",
       "\n",
       "<style>\n",
       "  .colab-df-quickchart {\n",
       "      --bg-color: #E8F0FE;\n",
       "      --fill-color: #1967D2;\n",
       "      --hover-bg-color: #E2EBFA;\n",
       "      --hover-fill-color: #174EA6;\n",
       "      --disabled-fill-color: #AAA;\n",
       "      --disabled-bg-color: #DDD;\n",
       "  }\n",
       "\n",
       "  [theme=dark] .colab-df-quickchart {\n",
       "      --bg-color: #3B4455;\n",
       "      --fill-color: #D2E3FC;\n",
       "      --hover-bg-color: #434B5C;\n",
       "      --hover-fill-color: #FFFFFF;\n",
       "      --disabled-bg-color: #3B4455;\n",
       "      --disabled-fill-color: #666;\n",
       "  }\n",
       "\n",
       "  .colab-df-quickchart {\n",
       "    background-color: var(--bg-color);\n",
       "    border: none;\n",
       "    border-radius: 50%;\n",
       "    cursor: pointer;\n",
       "    display: none;\n",
       "    fill: var(--fill-color);\n",
       "    height: 32px;\n",
       "    padding: 0;\n",
       "    width: 32px;\n",
       "  }\n",
       "\n",
       "  .colab-df-quickchart:hover {\n",
       "    background-color: var(--hover-bg-color);\n",
       "    box-shadow: 0 1px 2px rgba(60, 64, 67, 0.3), 0 1px 3px 1px rgba(60, 64, 67, 0.15);\n",
       "    fill: var(--button-hover-fill-color);\n",
       "  }\n",
       "\n",
       "  .colab-df-quickchart-complete:disabled,\n",
       "  .colab-df-quickchart-complete:disabled:hover {\n",
       "    background-color: var(--disabled-bg-color);\n",
       "    fill: var(--disabled-fill-color);\n",
       "    box-shadow: none;\n",
       "  }\n",
       "\n",
       "  .colab-df-spinner {\n",
       "    border: 2px solid var(--fill-color);\n",
       "    border-color: transparent;\n",
       "    border-bottom-color: var(--fill-color);\n",
       "    animation:\n",
       "      spin 1s steps(1) infinite;\n",
       "  }\n",
       "\n",
       "  @keyframes spin {\n",
       "    0% {\n",
       "      border-color: transparent;\n",
       "      border-bottom-color: var(--fill-color);\n",
       "      border-left-color: var(--fill-color);\n",
       "    }\n",
       "    20% {\n",
       "      border-color: transparent;\n",
       "      border-left-color: var(--fill-color);\n",
       "      border-top-color: var(--fill-color);\n",
       "    }\n",
       "    30% {\n",
       "      border-color: transparent;\n",
       "      border-left-color: var(--fill-color);\n",
       "      border-top-color: var(--fill-color);\n",
       "      border-right-color: var(--fill-color);\n",
       "    }\n",
       "    40% {\n",
       "      border-color: transparent;\n",
       "      border-right-color: var(--fill-color);\n",
       "      border-top-color: var(--fill-color);\n",
       "    }\n",
       "    60% {\n",
       "      border-color: transparent;\n",
       "      border-right-color: var(--fill-color);\n",
       "    }\n",
       "    80% {\n",
       "      border-color: transparent;\n",
       "      border-right-color: var(--fill-color);\n",
       "      border-bottom-color: var(--fill-color);\n",
       "    }\n",
       "    90% {\n",
       "      border-color: transparent;\n",
       "      border-bottom-color: var(--fill-color);\n",
       "    }\n",
       "  }\n",
       "</style>\n",
       "\n",
       "  <script>\n",
       "    async function quickchart(key) {\n",
       "      const quickchartButtonEl =\n",
       "        document.querySelector('#' + key + ' button');\n",
       "      quickchartButtonEl.disabled = true;  // To prevent multiple clicks.\n",
       "      quickchartButtonEl.classList.add('colab-df-spinner');\n",
       "      try {\n",
       "        const charts = await google.colab.kernel.invokeFunction(\n",
       "            'suggestCharts', [key], {});\n",
       "      } catch (error) {\n",
       "        console.error('Error during call to suggestCharts:', error);\n",
       "      }\n",
       "      quickchartButtonEl.classList.remove('colab-df-spinner');\n",
       "      quickchartButtonEl.classList.add('colab-df-quickchart-complete');\n",
       "    }\n",
       "    (() => {\n",
       "      let quickchartButtonEl =\n",
       "        document.querySelector('#df-5e741943-128e-4ae3-b18b-9c659ce30061 button');\n",
       "      quickchartButtonEl.style.display =\n",
       "        google.colab.kernel.accessAllowed ? 'block' : 'none';\n",
       "    })();\n",
       "  </script>\n",
       "</div>\n",
       "\n",
       "    </div>\n",
       "  </div>\n"
      ],
      "text/plain": [
       "   Label                                               Text\n",
       "0      1          मगर , इस तरफ कोई ध्यान नहीं दिया जा रहा ।\n",
       "1      0                 गेम कई बार मुश्किल मालूम देता है ।\n",
       "2      0               मल्टीप्लेयर में छोटी स्टोरीलाइन है ।\n",
       "3      2  हाई - एंड एचपी नोटबुक्स की लुक्स हमेशा बेहतरीन...\n",
       "4      2  कैमरे बनाने वाली कंपनी निकोन अपनी 1 सीरीज कैमर..."
      ]
     },
     "execution_count": 6,
     "metadata": {},
     "output_type": "execute_result"
    }
   ],
   "source": [
    "from sklearn.preprocessing import LabelEncoder\n",
    "\n",
    "label_encoder = LabelEncoder()\n",
    "train_df['Label'] = label_encoder.fit_transform(train_df['Label'])\n",
    "test_df['Label'] = label_encoder.transform(test_df['Label'])\n",
    "syn_df['Label'] = label_encoder.transform(syn_df['Label'])\n",
    "\n",
    "test_df.head()\n"
   ]
  },
  {
   "cell_type": "code",
   "execution_count": null,
   "metadata": {
    "colab": {
     "base_uri": "https://localhost:8080/",
     "height": 206
    },
    "executionInfo": {
     "elapsed": 8,
     "status": "ok",
     "timestamp": 1714906558987,
     "user": {
      "displayName": "Gaurang Patil",
      "userId": "15668632964256625578"
     },
     "user_tz": -330
    },
    "id": "h6VjF-yr6V-t",
    "outputId": "e022edcd-2723-47b4-f0e6-1c77f85fe957"
   },
   "outputs": [
    {
     "data": {
      "application/vnd.google.colaboratory.intrinsic+json": {
       "summary": "{\n  \"name\": \"syn_df\",\n  \"rows\": 523,\n  \"fields\": [\n    {\n      \"column\": \"Label\",\n      \"properties\": {\n        \"dtype\": \"number\",\n        \"std\": 0,\n        \"min\": 0,\n        \"max\": 2,\n        \"num_unique_values\": 3,\n        \"samples\": [\n          1,\n          0,\n          2\n        ],\n        \"semantic_type\": \"\",\n        \"description\": \"\"\n      }\n    },\n    {\n      \"column\": \"Text\",\n      \"properties\": {\n        \"dtype\": \"string\",\n        \"num_unique_values\": 523,\n        \"samples\": [\n          \"\\u0907\\u092e\\u0947\\u091c \\u0924\\u0925\\u093e \\u0935\\u0940\\u0921\\u093f\\u092f\\u094b \\u0935\\u093e\\u0938\\u094d\\u0924\\u0935 \\u092e\\u0947\\u0902 \\u0905\\u091a\\u094d\\u091b\\u0947 \\u0906\\u0924\\u0947 \\u0939\\u0948 \\u0964\",\n          \"\\u0905\\u0917\\u0930 \\u0906\\u092a \\u092b\\u0942\\u0932\\u094b\\u0902 \\u0915\\u0947 \\u0936\\u094c\\u0915\\u0940\\u0928 \\u0939\\u0948 \\u0914\\u0930 \\u0915\\u0936\\u094d\\u092e\\u0940\\u0930 \\u091c\\u093e\\u0928\\u0947 \\u0915\\u093e \\u092a\\u094d\\u0932\\u093e\\u0928 \\u092c\\u0928\\u093e \\u0930\\u0939\\u0947 \\u0939\\u0948 \\u0924\\u094b \\u0926\\u0947\\u0930 \\u092e\\u0924 \\u0915\\u0930\\u093f\\u090f \\u0964\",\n          \"\\u092b\\u0947\\u0938\\u092c\\u0941\\u0915 \\u0915\\u093e \\u0938\\u093f\\u0915\\u094d\\u092f\\u094b\\u0930\\u093f\\u091f\\u0940 \\u091a\\u0948\\u0915\\u0905\\u092a \\u092b\\u0940\\u091a\\u0930 \\u092a\\u0949\\u092a\\u0905\\u092a \\u0915\\u0947 \\u091c\\u0948\\u0938\\u093e \\u092f\\u0942\\u091c\\u0930\\u094d\\u0938 \\u0915\\u094b \\u0926\\u093f\\u0916\\u093e\\u0907 \\u0926\\u0947\\u0917\\u093e \\u0964\"\n        ],\n        \"semantic_type\": \"\",\n        \"description\": \"\"\n      }\n    }\n  ]\n}",
       "type": "dataframe",
       "variable_name": "syn_df"
      },
      "text/html": [
       "\n",
       "  <div id=\"df-1d90a171-383c-4029-b0bc-81d5f37e4f65\" class=\"colab-df-container\">\n",
       "    <div>\n",
       "<style scoped>\n",
       "    .dataframe tbody tr th:only-of-type {\n",
       "        vertical-align: middle;\n",
       "    }\n",
       "\n",
       "    .dataframe tbody tr th {\n",
       "        vertical-align: top;\n",
       "    }\n",
       "\n",
       "    .dataframe thead th {\n",
       "        text-align: right;\n",
       "    }\n",
       "</style>\n",
       "<table border=\"1\" class=\"dataframe\">\n",
       "  <thead>\n",
       "    <tr style=\"text-align: right;\">\n",
       "      <th></th>\n",
       "      <th>Label</th>\n",
       "      <th>Text</th>\n",
       "    </tr>\n",
       "  </thead>\n",
       "  <tbody>\n",
       "    <tr>\n",
       "      <th>0</th>\n",
       "      <td>1</td>\n",
       "      <td>मगर , इस तरफ कोई  नज़र नहीं दी जा रही ।</td>\n",
       "    </tr>\n",
       "    <tr>\n",
       "      <th>1</th>\n",
       "      <td>0</td>\n",
       "      <td>गेम कई बार कठिन मालूम देता है ।</td>\n",
       "    </tr>\n",
       "    <tr>\n",
       "      <th>2</th>\n",
       "      <td>0</td>\n",
       "      <td>मल्टीप्लेयर में  लघु स्टोरीलाइन है ।</td>\n",
       "    </tr>\n",
       "    <tr>\n",
       "      <th>3</th>\n",
       "      <td>2</td>\n",
       "      <td>हाई - एंड एचपी नोटबुक्स की लुक्स हमेशा उत्तम ह...</td>\n",
       "    </tr>\n",
       "    <tr>\n",
       "      <th>4</th>\n",
       "      <td>2</td>\n",
       "      <td>कैमरे बनाने वाली कंपनी निकोन अपनी 1 सीरीज कैमर...</td>\n",
       "    </tr>\n",
       "  </tbody>\n",
       "</table>\n",
       "</div>\n",
       "    <div class=\"colab-df-buttons\">\n",
       "\n",
       "  <div class=\"colab-df-container\">\n",
       "    <button class=\"colab-df-convert\" onclick=\"convertToInteractive('df-1d90a171-383c-4029-b0bc-81d5f37e4f65')\"\n",
       "            title=\"Convert this dataframe to an interactive table.\"\n",
       "            style=\"display:none;\">\n",
       "\n",
       "  <svg xmlns=\"http://www.w3.org/2000/svg\" height=\"24px\" viewBox=\"0 -960 960 960\">\n",
       "    <path d=\"M120-120v-720h720v720H120Zm60-500h600v-160H180v160Zm220 220h160v-160H400v160Zm0 220h160v-160H400v160ZM180-400h160v-160H180v160Zm440 0h160v-160H620v160ZM180-180h160v-160H180v160Zm440 0h160v-160H620v160Z\"/>\n",
       "  </svg>\n",
       "    </button>\n",
       "\n",
       "  <style>\n",
       "    .colab-df-container {\n",
       "      display:flex;\n",
       "      gap: 12px;\n",
       "    }\n",
       "\n",
       "    .colab-df-convert {\n",
       "      background-color: #E8F0FE;\n",
       "      border: none;\n",
       "      border-radius: 50%;\n",
       "      cursor: pointer;\n",
       "      display: none;\n",
       "      fill: #1967D2;\n",
       "      height: 32px;\n",
       "      padding: 0 0 0 0;\n",
       "      width: 32px;\n",
       "    }\n",
       "\n",
       "    .colab-df-convert:hover {\n",
       "      background-color: #E2EBFA;\n",
       "      box-shadow: 0px 1px 2px rgba(60, 64, 67, 0.3), 0px 1px 3px 1px rgba(60, 64, 67, 0.15);\n",
       "      fill: #174EA6;\n",
       "    }\n",
       "\n",
       "    .colab-df-buttons div {\n",
       "      margin-bottom: 4px;\n",
       "    }\n",
       "\n",
       "    [theme=dark] .colab-df-convert {\n",
       "      background-color: #3B4455;\n",
       "      fill: #D2E3FC;\n",
       "    }\n",
       "\n",
       "    [theme=dark] .colab-df-convert:hover {\n",
       "      background-color: #434B5C;\n",
       "      box-shadow: 0px 1px 3px 1px rgba(0, 0, 0, 0.15);\n",
       "      filter: drop-shadow(0px 1px 2px rgba(0, 0, 0, 0.3));\n",
       "      fill: #FFFFFF;\n",
       "    }\n",
       "  </style>\n",
       "\n",
       "    <script>\n",
       "      const buttonEl =\n",
       "        document.querySelector('#df-1d90a171-383c-4029-b0bc-81d5f37e4f65 button.colab-df-convert');\n",
       "      buttonEl.style.display =\n",
       "        google.colab.kernel.accessAllowed ? 'block' : 'none';\n",
       "\n",
       "      async function convertToInteractive(key) {\n",
       "        const element = document.querySelector('#df-1d90a171-383c-4029-b0bc-81d5f37e4f65');\n",
       "        const dataTable =\n",
       "          await google.colab.kernel.invokeFunction('convertToInteractive',\n",
       "                                                    [key], {});\n",
       "        if (!dataTable) return;\n",
       "\n",
       "        const docLinkHtml = 'Like what you see? Visit the ' +\n",
       "          '<a target=\"_blank\" href=https://colab.research.google.com/notebooks/data_table.ipynb>data table notebook</a>'\n",
       "          + ' to learn more about interactive tables.';\n",
       "        element.innerHTML = '';\n",
       "        dataTable['output_type'] = 'display_data';\n",
       "        await google.colab.output.renderOutput(dataTable, element);\n",
       "        const docLink = document.createElement('div');\n",
       "        docLink.innerHTML = docLinkHtml;\n",
       "        element.appendChild(docLink);\n",
       "      }\n",
       "    </script>\n",
       "  </div>\n",
       "\n",
       "\n",
       "<div id=\"df-d76bc591-50e5-416a-b0e7-b41106767b04\">\n",
       "  <button class=\"colab-df-quickchart\" onclick=\"quickchart('df-d76bc591-50e5-416a-b0e7-b41106767b04')\"\n",
       "            title=\"Suggest charts\"\n",
       "            style=\"display:none;\">\n",
       "\n",
       "<svg xmlns=\"http://www.w3.org/2000/svg\" height=\"24px\"viewBox=\"0 0 24 24\"\n",
       "     width=\"24px\">\n",
       "    <g>\n",
       "        <path d=\"M19 3H5c-1.1 0-2 .9-2 2v14c0 1.1.9 2 2 2h14c1.1 0 2-.9 2-2V5c0-1.1-.9-2-2-2zM9 17H7v-7h2v7zm4 0h-2V7h2v10zm4 0h-2v-4h2v4z\"/>\n",
       "    </g>\n",
       "</svg>\n",
       "  </button>\n",
       "\n",
       "<style>\n",
       "  .colab-df-quickchart {\n",
       "      --bg-color: #E8F0FE;\n",
       "      --fill-color: #1967D2;\n",
       "      --hover-bg-color: #E2EBFA;\n",
       "      --hover-fill-color: #174EA6;\n",
       "      --disabled-fill-color: #AAA;\n",
       "      --disabled-bg-color: #DDD;\n",
       "  }\n",
       "\n",
       "  [theme=dark] .colab-df-quickchart {\n",
       "      --bg-color: #3B4455;\n",
       "      --fill-color: #D2E3FC;\n",
       "      --hover-bg-color: #434B5C;\n",
       "      --hover-fill-color: #FFFFFF;\n",
       "      --disabled-bg-color: #3B4455;\n",
       "      --disabled-fill-color: #666;\n",
       "  }\n",
       "\n",
       "  .colab-df-quickchart {\n",
       "    background-color: var(--bg-color);\n",
       "    border: none;\n",
       "    border-radius: 50%;\n",
       "    cursor: pointer;\n",
       "    display: none;\n",
       "    fill: var(--fill-color);\n",
       "    height: 32px;\n",
       "    padding: 0;\n",
       "    width: 32px;\n",
       "  }\n",
       "\n",
       "  .colab-df-quickchart:hover {\n",
       "    background-color: var(--hover-bg-color);\n",
       "    box-shadow: 0 1px 2px rgba(60, 64, 67, 0.3), 0 1px 3px 1px rgba(60, 64, 67, 0.15);\n",
       "    fill: var(--button-hover-fill-color);\n",
       "  }\n",
       "\n",
       "  .colab-df-quickchart-complete:disabled,\n",
       "  .colab-df-quickchart-complete:disabled:hover {\n",
       "    background-color: var(--disabled-bg-color);\n",
       "    fill: var(--disabled-fill-color);\n",
       "    box-shadow: none;\n",
       "  }\n",
       "\n",
       "  .colab-df-spinner {\n",
       "    border: 2px solid var(--fill-color);\n",
       "    border-color: transparent;\n",
       "    border-bottom-color: var(--fill-color);\n",
       "    animation:\n",
       "      spin 1s steps(1) infinite;\n",
       "  }\n",
       "\n",
       "  @keyframes spin {\n",
       "    0% {\n",
       "      border-color: transparent;\n",
       "      border-bottom-color: var(--fill-color);\n",
       "      border-left-color: var(--fill-color);\n",
       "    }\n",
       "    20% {\n",
       "      border-color: transparent;\n",
       "      border-left-color: var(--fill-color);\n",
       "      border-top-color: var(--fill-color);\n",
       "    }\n",
       "    30% {\n",
       "      border-color: transparent;\n",
       "      border-left-color: var(--fill-color);\n",
       "      border-top-color: var(--fill-color);\n",
       "      border-right-color: var(--fill-color);\n",
       "    }\n",
       "    40% {\n",
       "      border-color: transparent;\n",
       "      border-right-color: var(--fill-color);\n",
       "      border-top-color: var(--fill-color);\n",
       "    }\n",
       "    60% {\n",
       "      border-color: transparent;\n",
       "      border-right-color: var(--fill-color);\n",
       "    }\n",
       "    80% {\n",
       "      border-color: transparent;\n",
       "      border-right-color: var(--fill-color);\n",
       "      border-bottom-color: var(--fill-color);\n",
       "    }\n",
       "    90% {\n",
       "      border-color: transparent;\n",
       "      border-bottom-color: var(--fill-color);\n",
       "    }\n",
       "  }\n",
       "</style>\n",
       "\n",
       "  <script>\n",
       "    async function quickchart(key) {\n",
       "      const quickchartButtonEl =\n",
       "        document.querySelector('#' + key + ' button');\n",
       "      quickchartButtonEl.disabled = true;  // To prevent multiple clicks.\n",
       "      quickchartButtonEl.classList.add('colab-df-spinner');\n",
       "      try {\n",
       "        const charts = await google.colab.kernel.invokeFunction(\n",
       "            'suggestCharts', [key], {});\n",
       "      } catch (error) {\n",
       "        console.error('Error during call to suggestCharts:', error);\n",
       "      }\n",
       "      quickchartButtonEl.classList.remove('colab-df-spinner');\n",
       "      quickchartButtonEl.classList.add('colab-df-quickchart-complete');\n",
       "    }\n",
       "    (() => {\n",
       "      let quickchartButtonEl =\n",
       "        document.querySelector('#df-d76bc591-50e5-416a-b0e7-b41106767b04 button');\n",
       "      quickchartButtonEl.style.display =\n",
       "        google.colab.kernel.accessAllowed ? 'block' : 'none';\n",
       "    })();\n",
       "  </script>\n",
       "</div>\n",
       "\n",
       "    </div>\n",
       "  </div>\n"
      ],
      "text/plain": [
       "   Label                                               Text\n",
       "0      1            मगर , इस तरफ कोई  नज़र नहीं दी जा रही ।\n",
       "1      0                    गेम कई बार कठिन मालूम देता है ।\n",
       "2      0               मल्टीप्लेयर में  लघु स्टोरीलाइन है ।\n",
       "3      2  हाई - एंड एचपी नोटबुक्स की लुक्स हमेशा उत्तम ह...\n",
       "4      2  कैमरे बनाने वाली कंपनी निकोन अपनी 1 सीरीज कैमर..."
      ]
     },
     "execution_count": 7,
     "metadata": {},
     "output_type": "execute_result"
    }
   ],
   "source": [
    "syn_df.head()\n"
   ]
  },
  {
   "cell_type": "code",
   "execution_count": null,
   "metadata": {
    "execution": {
     "iopub.status.busy": "2024-04-10T05:20:39.223785Z",
     "iopub.status.idle": "2024-04-10T05:20:39.224675Z",
     "shell.execute_reply": "2024-04-10T05:20:39.224420Z",
     "shell.execute_reply.started": "2024-04-10T05:20:39.224389Z"
    },
    "id": "0rCgzXSDWSBH"
   },
   "outputs": [],
   "source": [
    "class ElmoProcessor(torch.nn.Module):\n",
    "    def __init__(self,vocab_size,embedding_dim,hidden_dim,wt_mat):\n",
    "        super(ElmoProcessor,self).__init__()\n",
    "        #self.embeddings=nn.Embedding(vocab_size,embedding_dim)\n",
    "        self.lstmf1=nn.LSTM(embedding_dim,hidden_dim,num_layers=1,bidirectional=False,batch_first=True)\n",
    "        self.lstmf2=nn.LSTM(hidden_dim,hidden_size=hidden_dim,bidirectional=False,batch_first=True)\n",
    "        self.embedding=wt_mat.to(device)\n",
    "        # self.lstmb1=nn.LSTM(embedding_dim,hidden_dim,num_layers=1,bidirectional=False,batch_first=True)\n",
    "        # self.lstmb2=nn.LSTM(hidden_dim,hidden_size=hidden_dim,bidirectional=False,batch_first=True)\n",
    "\n",
    "        self.linear=nn.Linear(hidden_dim,vocab_size)\n",
    "    def forward(self,embeddingdata):\n",
    "        emb=torch.tensor(self.embedding(embeddingdata.to(device)))\n",
    "\n",
    "        emb_f=emb\n",
    "        # emb_b=emb.flip(1)\n",
    "\n",
    "        o1f1,h1f1=self.lstmf1(emb_f)\n",
    "        o2f2,h2f2=self.lstmf2(o1f1)\n",
    "        # o2f2=o2f2+o1f1\n",
    "        # h2f2=h2f2+h1f1\n",
    "        # o1b1,h1b1=self.lstmb1(emb_b)\n",
    "        # o2b2,h2b2=self.lstmb2(o1b1,h1b1)\n",
    "        # o2b2=o2b2+o1b1\n",
    "        # h2b2=h2b2+h1b1\n",
    "\n",
    "        # weighted_vector_emb=torch.cat([emb_f,emb_b],dim=2)\n",
    "        # weighted_vector_h1=torch.cat([o1f1,o1f1],dim=2)\n",
    "        # weighted_vector_h2=torch.cat([o1f1,o2f2],dim=2)\n",
    "        output =self.linear(o2f2)\n",
    "        return (output,o1f1,o2f2)"
   ]
  },
  {
   "cell_type": "code",
   "execution_count": null,
   "metadata": {
    "id": "VAty8Q_z7oBX"
   },
   "outputs": [],
   "source": [
    "device = \"cuda\" if torch.cuda.is_available() else \"cpu\"\n"
   ]
  },
  {
   "cell_type": "code",
   "execution_count": null,
   "metadata": {
    "execution": {
     "iopub.status.busy": "2024-04-10T05:20:39.225932Z",
     "iopub.status.idle": "2024-04-10T05:20:39.226434Z",
     "shell.execute_reply": "2024-04-10T05:20:39.226197Z",
     "shell.execute_reply.started": "2024-04-10T05:20:39.226176Z"
    },
    "id": "ZOf3z3s9WSD0"
   },
   "outputs": [],
   "source": [
    "# # not run\n",
    "\n",
    "# wt_mat=torch.zeros(size=(90337,300))\n",
    "# embeddings=torch.tensor(wt_mat,dtype=torch.float)\n",
    "# forward_model= torch.load(forward_model_path,map_location=torch.device('cpu'))\n",
    "# backward_model= torch.load(backward_model_path,map_location=torch.device('cpu'))"
   ]
  },
  {
   "cell_type": "code",
   "execution_count": null,
   "metadata": {
    "execution": {
     "iopub.status.busy": "2024-04-10T05:20:39.229993Z",
     "iopub.status.idle": "2024-04-10T05:20:39.230361Z",
     "shell.execute_reply": "2024-04-10T05:20:39.230189Z",
     "shell.execute_reply.started": "2024-04-10T05:20:39.230174Z"
    },
    "id": "Wam9K-TsWSGT"
   },
   "outputs": [],
   "source": [
    "with open(word_to_ix_path, 'rb') as file:\n",
    "\n",
    "    word_to_ix = pickle.load(file)\n"
   ]
  },
  {
   "cell_type": "code",
   "execution_count": null,
   "metadata": {
    "execution": {
     "iopub.status.busy": "2024-04-10T05:20:39.232425Z",
     "iopub.status.idle": "2024-04-10T05:20:39.233215Z",
     "shell.execute_reply": "2024-04-10T05:20:39.233026Z",
     "shell.execute_reply.started": "2024-04-10T05:20:39.233008Z"
    },
    "id": "oM5AC-pNkzzy"
   },
   "outputs": [],
   "source": [
    "# # not run\n",
    "# mxlen=[]\n",
    "# for column in train_df[train_df.columns[1]]:\n",
    "#     mxlen.append(len(column.split(' ')))\n",
    "# max(mxlen)"
   ]
  },
  {
   "cell_type": "code",
   "execution_count": null,
   "metadata": {
    "execution": {
     "iopub.status.busy": "2024-04-10T05:20:39.234806Z",
     "iopub.status.idle": "2024-04-10T05:20:39.235205Z",
     "shell.execute_reply": "2024-04-10T05:20:39.235033Z",
     "shell.execute_reply.started": "2024-04-10T05:20:39.235017Z"
    },
    "id": "32PTdn-Ubu7P"
   },
   "outputs": [],
   "source": [
    "\n",
    "mxlen = 30\n",
    "class DatafetchClassify(Dataset):\n",
    "    def __init__(self,split:str):\n",
    "        sequence=[]\n",
    "        labels=[]\n",
    "        for x in tqdm(split[split.columns[1]],desc='Generate next word prediction data'):\n",
    "            if len(x)<2 or x[0]=='=':continue\n",
    "            words=indic_tokenize.trivial_tokenize(x,'hi') # alternative: x.strip().split(' ')\n",
    "            words=words\n",
    "            indices=[word_to_ix.get(word, 1) for word in words[:mxlen]]\n",
    "            sequence.append((mxlen-len(indices))*[word_to_ix['<PAD>']]+indices[:])\n",
    "        for x in tqdm(split[split.columns[0]],desc=\"Generate label\"):\n",
    "            labels.append(x)\n",
    "        max_seq_len=max([len(ngram) for ngram in sequence])\n",
    "        self.sequence=tensor(sequence)\n",
    "        self.sequence.to(device)\n",
    "        self.labels=tensor(labels)\n",
    "        self.labels.to(device)\n",
    "    def __len__(self)->int:\n",
    "        return len(self.sequence)\n",
    "    def __getitem__(self,index:int):\n",
    "        return self.sequence[index],self.labels[index]"
   ]
  },
  {
   "cell_type": "code",
   "execution_count": null,
   "metadata": {
    "execution": {
     "iopub.status.busy": "2024-04-10T05:20:39.236550Z",
     "iopub.status.idle": "2024-04-10T05:20:39.236957Z",
     "shell.execute_reply": "2024-04-10T05:20:39.236755Z",
     "shell.execute_reply.started": "2024-04-10T05:20:39.236740Z"
    },
    "id": "NQhz1gaCbu9f"
   },
   "outputs": [],
   "source": [
    "# # not run\n",
    "# classifier_dataset=DatafetchClassify(train_df)"
   ]
  },
  {
   "cell_type": "code",
   "execution_count": null,
   "metadata": {
    "execution": {
     "iopub.status.busy": "2024-04-10T05:20:39.238160Z",
     "iopub.status.idle": "2024-04-10T05:20:39.239104Z",
     "shell.execute_reply": "2024-04-10T05:20:39.238882Z",
     "shell.execute_reply.started": "2024-04-10T05:20:39.238864Z"
    },
    "id": "eGH3MlD5bu_z"
   },
   "outputs": [],
   "source": [
    "batch_size=64"
   ]
  },
  {
   "cell_type": "code",
   "execution_count": null,
   "metadata": {
    "execution": {
     "iopub.status.busy": "2024-04-10T05:20:39.240487Z",
     "iopub.status.idle": "2024-04-10T05:20:39.240878Z",
     "shell.execute_reply": "2024-04-10T05:20:39.240701Z",
     "shell.execute_reply.started": "2024-04-10T05:20:39.240685Z"
    },
    "id": "C81YPiS8mq0I"
   },
   "outputs": [],
   "source": [
    "# # not run\n",
    "# classifer_dataloader=DataLoader(classifier_dataset,batch_size,shuffle=True)\n",
    "# data,labels=next(iter(classifer_dataloader))\n"
   ]
  },
  {
   "cell_type": "code",
   "execution_count": null,
   "metadata": {
    "execution": {
     "iopub.status.busy": "2024-04-10T05:20:39.251624Z",
     "iopub.status.idle": "2024-04-10T05:20:39.252061Z",
     "shell.execute_reply": "2024-04-10T05:20:39.251849Z",
     "shell.execute_reply.started": "2024-04-10T05:20:39.251832Z"
    },
    "id": "DYpA9Kfcmq0J"
   },
   "outputs": [],
   "source": [
    "class ElmoClassifier(torch.nn.Module):\n",
    "    def __init__(self,no_classes,forward_model,backward_model,embedding_dim):\n",
    "        super(ElmoClassifier,self).__init__()\n",
    "        self.forward_model=forward_model\n",
    "        self.embedding = forward_model.embedding\n",
    "        self.backward_model=backward_model\n",
    "        self.forward_model.requires_grad=False\n",
    "        self.backward_model.requires_grad=False\n",
    "        self.linear1=nn.Linear(100,no_classes)\n",
    "        self.param0=nn.Parameter(torch.rand(1),requires_grad=False)\n",
    "        self.param1=nn.Parameter(torch.rand(1),requires_grad=False)\n",
    "        self.param2=nn.Parameter(torch.rand(1),requires_grad=False)\n",
    "        self.bilstm=nn.LSTM(input_size=embedding_dim*2,hidden_size=50,bidirectional=True,batch_first=True)\n",
    "    def forward(self,embdata):\n",
    "        _,o1f1,o2f2=self.forward_model(embdata)\n",
    "        _,o1b1,o2b2=self.backward_model(embdata)\n",
    "        # print(embdata.shape)\n",
    "        # print('\\n',o1f1.shape)\n",
    "        embdata = self.embedding(embdata)\n",
    "        e = torch.cat([embdata, embdata.flip(1)],dim=2)\n",
    "        h1=torch.cat([o1f1,o1b1.flip(1)],dim=2)\n",
    "        h2=torch.cat([o2f2,o2b2.flip(1)],dim=2)\n",
    "        bio,bih=self.bilstm(self.param0 * e + self.param1 * h1 + self.param2 * h2 )\n",
    "\n",
    "        y=self.linear1(bio[:,-1,:])\n",
    "\n",
    "        return y"
   ]
  },
  {
   "cell_type": "code",
   "execution_count": null,
   "metadata": {
    "execution": {
     "iopub.status.busy": "2024-04-10T05:20:39.253157Z",
     "iopub.status.idle": "2024-04-10T05:20:39.253545Z",
     "shell.execute_reply": "2024-04-10T05:20:39.253372Z",
     "shell.execute_reply.started": "2024-04-10T05:20:39.253356Z"
    },
    "id": "CjDW-LElmq0J"
   },
   "outputs": [],
   "source": [
    "# # not run\n",
    "# classifier=ElmoClassifier(3,forward_model,backward_model,300)"
   ]
  },
  {
   "cell_type": "code",
   "execution_count": null,
   "metadata": {
    "execution": {
     "iopub.status.busy": "2024-04-10T05:20:39.255473Z",
     "iopub.status.idle": "2024-04-10T05:20:39.256361Z",
     "shell.execute_reply": "2024-04-10T05:20:39.256164Z",
     "shell.execute_reply.started": "2024-04-10T05:20:39.256145Z"
    },
    "id": "nJnG6xM4mq0J"
   },
   "outputs": [],
   "source": []
  },
  {
   "cell_type": "code",
   "execution_count": null,
   "metadata": {
    "execution": {
     "iopub.status.busy": "2024-04-10T05:20:39.257234Z",
     "iopub.status.idle": "2024-04-10T05:20:39.257606Z",
     "shell.execute_reply": "2024-04-10T05:20:39.257442Z",
     "shell.execute_reply.started": "2024-04-10T05:20:39.257427Z"
    },
    "id": "de9MeZuZmq0J"
   },
   "outputs": [],
   "source": [
    "# # not run\n",
    "\n",
    "# for epoch in range(5):\n",
    "#     train_loss=0\n",
    "#     classifier.train()\n",
    "#     for batch in tqdm(classifer_dataloader,desc=\"Training\"):\n",
    "#         x_train,y_train=batch\n",
    "#         optimizer.zero_grad()\n",
    "\n",
    "#         x_train.to(device)\n",
    "#         y_train.to(device)\n",
    "#         output=classifier(x_train)\n",
    "#         loss=loss_fn(output.to(device),y_train.to(device))\n",
    "#         loss.backward()\n",
    "#         optimizer.step()\n",
    "#         train_loss +=loss.item()\n",
    "#     print(train_loss)"
   ]
  },
  {
   "cell_type": "code",
   "execution_count": null,
   "metadata": {
    "colab": {
     "base_uri": "https://localhost:8080/"
    },
    "execution": {
     "iopub.status.busy": "2024-04-10T05:20:39.259261Z",
     "iopub.status.idle": "2024-04-10T05:20:39.259644Z",
     "shell.execute_reply": "2024-04-10T05:20:39.259478Z",
     "shell.execute_reply.started": "2024-04-10T05:20:39.259462Z"
    },
    "executionInfo": {
     "elapsed": 640,
     "status": "ok",
     "timestamp": 1714906560638,
     "user": {
      "displayName": "Gaurang Patil",
      "userId": "15668632964256625578"
     },
     "user_tz": -330
    },
    "id": "cm-ASTg12QBj",
    "outputId": "c7df17f3-6716-4805-94d3-eef66eb98767"
   },
   "outputs": [
    {
     "name": "stderr",
     "output_type": "stream",
     "text": [
      "Generate next word prediction data: 100%|██████████| 523/523 [00:00<00:00, 6063.43it/s]\n",
      "Generate label: 100%|██████████| 523/523 [00:00<00:00, 920915.61it/s]\n"
     ]
    }
   ],
   "source": [
    "classifier_eval=DatafetchClassify(test_df)"
   ]
  },
  {
   "cell_type": "code",
   "execution_count": null,
   "metadata": {
    "execution": {
     "iopub.status.busy": "2024-04-10T05:20:39.260683Z",
     "iopub.status.idle": "2024-04-10T05:20:39.261158Z",
     "shell.execute_reply": "2024-04-10T05:20:39.260936Z",
     "shell.execute_reply.started": "2024-04-10T05:20:39.260915Z"
    },
    "id": "KTBM0CCn2QBj"
   },
   "outputs": [],
   "source": [
    "classifer_dataloader_eval=DataLoader(classifier_eval,batch_size=100,shuffle=None)\n",
    "data,labels=next(iter(classifer_dataloader_eval))\n"
   ]
  },
  {
   "cell_type": "code",
   "execution_count": null,
   "metadata": {
    "id": "1no_vGYu7v2Z"
   },
   "outputs": [],
   "source": [
    "classifier_path = '/content/drive/MyDrive/Colab Notebooks/INLP Project/product_reviews/product_review_classifier_lambdas_frozen'\n",
    "classifier = torch.load(classifier_path, map_location=torch.device('cpu'))\n",
    "\n",
    "classifier.to(device)\n",
    "loss_fn=nn.CrossEntropyLoss()\n",
    "optimizer=torch.optim.Adam(classifier.parameters(),1e-3)"
   ]
  },
  {
   "cell_type": "code",
   "execution_count": null,
   "metadata": {
    "colab": {
     "base_uri": "https://localhost:8080/"
    },
    "execution": {
     "iopub.status.busy": "2024-04-10T05:20:39.263049Z",
     "iopub.status.idle": "2024-04-10T05:20:39.263447Z",
     "shell.execute_reply": "2024-04-10T05:20:39.263268Z",
     "shell.execute_reply.started": "2024-04-10T05:20:39.263251Z"
    },
    "executionInfo": {
     "elapsed": 18086,
     "status": "ok",
     "timestamp": 1714906591420,
     "user": {
      "displayName": "Gaurang Patil",
      "userId": "15668632964256625578"
     },
     "user_tz": -330
    },
    "id": "Ttv68nDR2QBj",
    "outputId": "77fc3d6a-ab05-4558-e432-38d5681d7421"
   },
   "outputs": [
    {
     "name": "stderr",
     "output_type": "stream",
     "text": [
      "\r",
      "Evaluation:   0%|          | 0/6 [00:00<?, ?it/s]<ipython-input-8-b766623ffbb4>:13: UserWarning: To copy construct from a tensor, it is recommended to use sourceTensor.clone().detach() or sourceTensor.clone().detach().requires_grad_(True), rather than torch.tensor(sourceTensor).\n",
      "  emb=torch.tensor(self.embedding(embeddingdata.to(device)))\n",
      "Evaluation:   0%|          | 0/6 [00:17<?, ?it/s]\n"
     ]
    }
   ],
   "source": [
    "from sklearn.metrics import classification_report,accuracy_score,confusion_matrix,f1_score,recall_score\n",
    "import numpy as np\n",
    "import seaborn as sns\n",
    "import matplotlib.pyplot as plt\n",
    "confusion_matrix=np.zeros((4,4))\n",
    "y_true=[]\n",
    "y_pred=[]\n",
    "train_loss=0.0\n",
    "for batch in tqdm(classifer_dataloader_eval,desc=\"Evaluation\"):\n",
    "    x_train,y_train=batch\n",
    "    optimizer.zero_grad()\n",
    "\n",
    "    x_train.to(device)\n",
    "    y_train.to(device)\n",
    "    output=classifier(x_train)\n",
    "\n",
    "    _,preds=torch.max(output,dim=1)\n",
    "    y_true.extend(y_train.cpu().detach().numpy())\n",
    "    y_pred.extend(preds.cpu().detach().numpy())\n",
    "    break"
   ]
  },
  {
   "cell_type": "code",
   "execution_count": null,
   "metadata": {
    "colab": {
     "base_uri": "https://localhost:8080/"
    },
    "executionInfo": {
     "elapsed": 19,
     "status": "ok",
     "timestamp": 1714906591421,
     "user": {
      "displayName": "Gaurang Patil",
      "userId": "15668632964256625578"
     },
     "user_tz": -330
    },
    "id": "eZYW4uPWsP4T",
    "outputId": "b9aec7a2-58a7-45aa-f3bd-b14d32164c6d"
   },
   "outputs": [
    {
     "data": {
      "text/plain": [
       "torch.Size([100, 3])"
      ]
     },
     "execution_count": 24,
     "metadata": {},
     "output_type": "execute_result"
    }
   ],
   "source": [
    "output.shape"
   ]
  },
  {
   "cell_type": "code",
   "execution_count": null,
   "metadata": {
    "colab": {
     "base_uri": "https://localhost:8080/"
    },
    "executionInfo": {
     "elapsed": 17,
     "status": "ok",
     "timestamp": 1714906591421,
     "user": {
      "displayName": "Gaurang Patil",
      "userId": "15668632964256625578"
     },
     "user_tz": -330
    },
    "id": "p17hb7sUtiLi",
    "outputId": "cfbbbaa6-2586-42c2-e61c-4f08be9dce0f"
   },
   "outputs": [
    {
     "data": {
      "text/plain": [
       "100"
      ]
     },
     "execution_count": 25,
     "metadata": {},
     "output_type": "execute_result"
    }
   ],
   "source": [
    "len(y_true)"
   ]
  },
  {
   "cell_type": "code",
   "execution_count": null,
   "metadata": {
    "id": "UJ8gdTm1rU9d"
   },
   "outputs": [],
   "source": [
    "output_exp = torch.exp(output)\n",
    "row_sums = torch.sum(output_exp, dim=1, keepdim=True)\n",
    "\n",
    "# Divide each element by its row sum\n",
    "output = output_exp / row_sums"
   ]
  },
  {
   "cell_type": "code",
   "execution_count": null,
   "metadata": {
    "colab": {
     "base_uri": "https://localhost:8080/"
    },
    "executionInfo": {
     "elapsed": 13,
     "status": "ok",
     "timestamp": 1714906591421,
     "user": {
      "displayName": "Gaurang Patil",
      "userId": "15668632964256625578"
     },
     "user_tz": -330
    },
    "id": "-d1hCfwXp5kn",
    "outputId": "b38b9711-2928-438e-e7c6-93fdc3491e13"
   },
   "outputs": [
    {
     "data": {
      "text/plain": [
       "tensor([[0.3314, 0.4841, 0.1845],\n",
       "        [0.6623, 0.0882, 0.2496],\n",
       "        [0.1652, 0.4253, 0.4095],\n",
       "        [0.0027, 0.0057, 0.9917],\n",
       "        [0.0029, 0.0044, 0.9926],\n",
       "        [0.0062, 0.0130, 0.9808],\n",
       "        [0.0199, 0.7848, 0.1953],\n",
       "        [0.2339, 0.5735, 0.1926],\n",
       "        [0.3860, 0.1265, 0.4875],\n",
       "        [0.0035, 0.9697, 0.0268],\n",
       "        [0.0215, 0.9699, 0.0086],\n",
       "        [0.0093, 0.6570, 0.3338],\n",
       "        [0.0047, 0.0533, 0.9420],\n",
       "        [0.0056, 0.0288, 0.9656],\n",
       "        [0.0315, 0.1663, 0.8022],\n",
       "        [0.0459, 0.2235, 0.7306],\n",
       "        [0.0874, 0.6865, 0.2260],\n",
       "        [0.0034, 0.9802, 0.0164],\n",
       "        [0.2586, 0.2663, 0.4751],\n",
       "        [0.0086, 0.3652, 0.6263],\n",
       "        [0.6168, 0.2242, 0.1590],\n",
       "        [0.0066, 0.9577, 0.0357],\n",
       "        [0.0067, 0.9496, 0.0437],\n",
       "        [0.6300, 0.2163, 0.1537],\n",
       "        [0.0084, 0.0145, 0.9770],\n",
       "        [0.0374, 0.6482, 0.3144],\n",
       "        [0.1290, 0.7636, 0.1074],\n",
       "        [0.0693, 0.1495, 0.7812],\n",
       "        [0.1314, 0.5056, 0.3630],\n",
       "        [0.6507, 0.2572, 0.0920],\n",
       "        [0.4082, 0.3766, 0.2152],\n",
       "        [0.0033, 0.9721, 0.0247],\n",
       "        [0.0084, 0.0202, 0.9713],\n",
       "        [0.0028, 0.0054, 0.9918],\n",
       "        [0.0330, 0.8111, 0.1558],\n",
       "        [0.0052, 0.9470, 0.0478],\n",
       "        [0.0045, 0.9772, 0.0182],\n",
       "        [0.0114, 0.0212, 0.9674],\n",
       "        [0.0456, 0.0861, 0.8683],\n",
       "        [0.0077, 0.0137, 0.9785],\n",
       "        [0.0040, 0.9625, 0.0336],\n",
       "        [0.0031, 0.9675, 0.0295],\n",
       "        [0.0034, 0.0058, 0.9908],\n",
       "        [0.0094, 0.7748, 0.2157],\n",
       "        [0.0043, 0.9220, 0.0737],\n",
       "        [0.0039, 0.9537, 0.0424],\n",
       "        [0.0052, 0.9712, 0.0236],\n",
       "        [0.0036, 0.8704, 0.1260],\n",
       "        [0.0353, 0.8538, 0.1108],\n",
       "        [0.0031, 0.0053, 0.9916],\n",
       "        [0.0055, 0.0088, 0.9857],\n",
       "        [0.0066, 0.9291, 0.0643],\n",
       "        [0.6759, 0.1489, 0.1753],\n",
       "        [0.0047, 0.0206, 0.9747],\n",
       "        [0.0233, 0.8723, 0.1045],\n",
       "        [0.0069, 0.9497, 0.0434],\n",
       "        [0.0071, 0.9797, 0.0133],\n",
       "        [0.2106, 0.5230, 0.2664],\n",
       "        [0.3288, 0.5419, 0.1293],\n",
       "        [0.0329, 0.3117, 0.6555],\n",
       "        [0.1411, 0.0842, 0.7747],\n",
       "        [0.2486, 0.4875, 0.2638],\n",
       "        [0.0245, 0.1928, 0.7827],\n",
       "        [0.3647, 0.3692, 0.2660],\n",
       "        [0.0045, 0.0078, 0.9877],\n",
       "        [0.0041, 0.9813, 0.0146],\n",
       "        [0.0029, 0.0049, 0.9922],\n",
       "        [0.1833, 0.7454, 0.0713],\n",
       "        [0.0034, 0.0069, 0.9897],\n",
       "        [0.0029, 0.0050, 0.9921],\n",
       "        [0.0046, 0.9742, 0.0212],\n",
       "        [0.0141, 0.9590, 0.0269],\n",
       "        [0.0060, 0.5814, 0.4125],\n",
       "        [0.0959, 0.1990, 0.7051],\n",
       "        [0.0055, 0.9065, 0.0881],\n",
       "        [0.0875, 0.8866, 0.0259],\n",
       "        [0.0033, 0.9780, 0.0187],\n",
       "        [0.6917, 0.1571, 0.1511],\n",
       "        [0.0417, 0.2306, 0.7277],\n",
       "        [0.6688, 0.1035, 0.2277],\n",
       "        [0.6871, 0.2283, 0.0846],\n",
       "        [0.0193, 0.0698, 0.9109],\n",
       "        [0.0039, 0.0083, 0.9878],\n",
       "        [0.0574, 0.6063, 0.3363],\n",
       "        [0.1192, 0.8248, 0.0559],\n",
       "        [0.0055, 0.0110, 0.9835],\n",
       "        [0.3694, 0.0949, 0.5357],\n",
       "        [0.4365, 0.1653, 0.3981],\n",
       "        [0.0094, 0.9114, 0.0791],\n",
       "        [0.0044, 0.0058, 0.9897],\n",
       "        [0.0055, 0.9771, 0.0175],\n",
       "        [0.0429, 0.9418, 0.0153],\n",
       "        [0.0043, 0.0112, 0.9845],\n",
       "        [0.0114, 0.0168, 0.9718],\n",
       "        [0.5569, 0.2752, 0.1679],\n",
       "        [0.3300, 0.0462, 0.6237],\n",
       "        [0.1320, 0.8194, 0.0486],\n",
       "        [0.0038, 0.9621, 0.0341],\n",
       "        [0.0084, 0.8448, 0.1468],\n",
       "        [0.0033, 0.0178, 0.9789]], requires_grad=True)"
      ]
     },
     "execution_count": 27,
     "metadata": {},
     "output_type": "execute_result"
    }
   ],
   "source": [
    "y_org_sentence = copy.copy(output)\n",
    "y_org_sentence"
   ]
  },
  {
   "cell_type": "code",
   "execution_count": null,
   "metadata": {
    "execution": {
     "iopub.status.busy": "2024-04-10T05:20:39.265315Z",
     "iopub.status.idle": "2024-04-10T05:20:39.265719Z",
     "shell.execute_reply": "2024-04-10T05:20:39.265545Z",
     "shell.execute_reply.started": "2024-04-10T05:20:39.265529Z"
    },
    "id": "Z-Ay9C6H2QBj"
   },
   "outputs": [],
   "source": [
    "# accuracy_score(y_true,y_pred)"
   ]
  },
  {
   "cell_type": "code",
   "execution_count": null,
   "metadata": {
    "id": "RTNHCzjExhFt"
   },
   "outputs": [],
   "source": []
  },
  {
   "cell_type": "code",
   "execution_count": null,
   "metadata": {
    "colab": {
     "base_uri": "https://localhost:8080/"
    },
    "execution": {
     "iopub.status.busy": "2024-04-10T05:20:39.259261Z",
     "iopub.status.idle": "2024-04-10T05:20:39.259644Z",
     "shell.execute_reply": "2024-04-10T05:20:39.259478Z",
     "shell.execute_reply.started": "2024-04-10T05:20:39.259462Z"
    },
    "executionInfo": {
     "elapsed": 12,
     "status": "ok",
     "timestamp": 1714906591422,
     "user": {
      "displayName": "Gaurang Patil",
      "userId": "15668632964256625578"
     },
     "user_tz": -330
    },
    "id": "BHcrQ7399yo3",
    "outputId": "dea5114e-e49d-4dd2-90b2-823432f7ade8"
   },
   "outputs": [
    {
     "name": "stderr",
     "output_type": "stream",
     "text": [
      "Generate next word prediction data: 100%|██████████| 523/523 [00:00<00:00, 12534.98it/s]\n",
      "Generate label: 100%|██████████| 523/523 [00:00<00:00, 1058697.39it/s]\n"
     ]
    }
   ],
   "source": [
    "classifier_eval_syn =DatafetchClassify(syn_df)"
   ]
  },
  {
   "cell_type": "code",
   "execution_count": null,
   "metadata": {
    "execution": {
     "iopub.status.busy": "2024-04-10T05:20:39.260683Z",
     "iopub.status.idle": "2024-04-10T05:20:39.261158Z",
     "shell.execute_reply": "2024-04-10T05:20:39.260936Z",
     "shell.execute_reply.started": "2024-04-10T05:20:39.260915Z"
    },
    "id": "tyNKWXQM9yo8"
   },
   "outputs": [],
   "source": [
    "classifer_dataloader_eval_syn =DataLoader(classifier_eval_syn,batch_size=100,shuffle=None)\n",
    "data,labels=next(iter(classifer_dataloader_eval_syn))\n"
   ]
  },
  {
   "cell_type": "code",
   "execution_count": null,
   "metadata": {
    "id": "-wY2j1nW9yo9"
   },
   "outputs": [],
   "source": [
    "# classifier_path = '/content/drive/MyDrive/Colab Notebooks/INLP Project/product_reviews/product_review_classifier_final'\n",
    "# classifier = torch.load(classifier_path, map_location=torch.device('cpu'))\n",
    "\n",
    "# classifier.to(device)\n",
    "# loss_fn=nn.CrossEntropyLoss()\n",
    "# optimizer=torch.optim.Adam(classifier.parameters(),1e-3)"
   ]
  },
  {
   "cell_type": "code",
   "execution_count": null,
   "metadata": {
    "colab": {
     "base_uri": "https://localhost:8080/"
    },
    "execution": {
     "iopub.status.busy": "2024-04-10T05:20:39.263049Z",
     "iopub.status.idle": "2024-04-10T05:20:39.263447Z",
     "shell.execute_reply": "2024-04-10T05:20:39.263268Z",
     "shell.execute_reply.started": "2024-04-10T05:20:39.263251Z"
    },
    "executionInfo": {
     "elapsed": 7784,
     "status": "ok",
     "timestamp": 1714906599199,
     "user": {
      "displayName": "Gaurang Patil",
      "userId": "15668632964256625578"
     },
     "user_tz": -330
    },
    "id": "0RimDIDB9yo-",
    "outputId": "6647a864-15eb-4f63-cceb-77a74f0aeb0d"
   },
   "outputs": [
    {
     "name": "stderr",
     "output_type": "stream",
     "text": [
      "\r",
      "Evaluation:   0%|          | 0/6 [00:00<?, ?it/s]<ipython-input-8-b766623ffbb4>:13: UserWarning: To copy construct from a tensor, it is recommended to use sourceTensor.clone().detach() or sourceTensor.clone().detach().requires_grad_(True), rather than torch.tensor(sourceTensor).\n",
      "  emb=torch.tensor(self.embedding(embeddingdata.to(device)))\n",
      "Evaluation:   0%|          | 0/6 [00:07<?, ?it/s]\n"
     ]
    }
   ],
   "source": [
    "from sklearn.metrics import classification_report,accuracy_score,confusion_matrix,f1_score,recall_score\n",
    "import numpy as np\n",
    "import seaborn as sns\n",
    "import matplotlib.pyplot as plt\n",
    "confusion_matrix=np.zeros((4,4))\n",
    "y_true=[]\n",
    "y_pred=[]\n",
    "train_loss=0.0\n",
    "for batch in tqdm(classifer_dataloader_eval_syn,desc=\"Evaluation\"):\n",
    "    x_train,y_train=batch\n",
    "    optimizer.zero_grad()\n",
    "\n",
    "    x_train.to(device)\n",
    "    y_train.to(device)\n",
    "    output=classifier(x_train)\n",
    "\n",
    "    _,preds=torch.max(output,dim=1)\n",
    "    y_true.extend(y_train.cpu().detach().numpy())\n",
    "    y_pred.extend(preds.cpu().detach().numpy())\n",
    "    break"
   ]
  },
  {
   "cell_type": "code",
   "execution_count": null,
   "metadata": {
    "id": "lePf7uzNwsYt"
   },
   "outputs": [],
   "source": [
    "# accuracy_score(y_true,y_pred)"
   ]
  },
  {
   "cell_type": "code",
   "execution_count": null,
   "metadata": {
    "colab": {
     "base_uri": "https://localhost:8080/"
    },
    "executionInfo": {
     "elapsed": 14,
     "status": "ok",
     "timestamp": 1714906599199,
     "user": {
      "displayName": "Gaurang Patil",
      "userId": "15668632964256625578"
     },
     "user_tz": -330
    },
    "id": "cPZD7yq6wQze",
    "outputId": "f44642aa-6d35-4236-fb09-088a0695f9c0"
   },
   "outputs": [
    {
     "data": {
      "text/plain": [
       "torch.Size([100, 3])"
      ]
     },
     "execution_count": 34,
     "metadata": {},
     "output_type": "execute_result"
    }
   ],
   "source": [
    "output.shape"
   ]
  },
  {
   "cell_type": "code",
   "execution_count": null,
   "metadata": {
    "id": "ZESOacnCsUV7"
   },
   "outputs": [],
   "source": [
    "output_exp = torch.exp(output)\n",
    "row_sums = torch.sum(output_exp, dim=1, keepdim=True)\n",
    "\n",
    "# Divide each element by its row sum\n",
    "output = output_exp / row_sums"
   ]
  },
  {
   "cell_type": "code",
   "execution_count": null,
   "metadata": {
    "colab": {
     "base_uri": "https://localhost:8080/"
    },
    "executionInfo": {
     "elapsed": 11,
     "status": "ok",
     "timestamp": 1714906599199,
     "user": {
      "displayName": "Gaurang Patil",
      "userId": "15668632964256625578"
     },
     "user_tz": -330
    },
    "id": "UnsQDk_bFDOz",
    "outputId": "ce07bd88-44cb-4fcb-a710-c39a689b30ae"
   },
   "outputs": [
    {
     "data": {
      "text/plain": [
       "tensor([[0.0208, 0.9625, 0.0167],\n",
       "        [0.6179, 0.0898, 0.2923],\n",
       "        [0.0427, 0.6927, 0.2645],\n",
       "        [0.0028, 0.0062, 0.9910],\n",
       "        [0.0045, 0.0124, 0.9831],\n",
       "        [0.0065, 0.0143, 0.9792],\n",
       "        [0.1286, 0.6369, 0.2345],\n",
       "        [0.2915, 0.4893, 0.2192],\n",
       "        [0.4482, 0.1509, 0.4010],\n",
       "        [0.0037, 0.9605, 0.0358],\n",
       "        [0.0212, 0.9702, 0.0086],\n",
       "        [0.0167, 0.2855, 0.6978],\n",
       "        [0.0070, 0.2413, 0.7518],\n",
       "        [0.0270, 0.3616, 0.6114],\n",
       "        [0.0212, 0.0295, 0.9492],\n",
       "        [0.0697, 0.2468, 0.6835],\n",
       "        [0.0126, 0.6158, 0.3716],\n",
       "        [0.0035, 0.9815, 0.0150],\n",
       "        [0.1436, 0.1811, 0.6753],\n",
       "        [0.0070, 0.2873, 0.7057],\n",
       "        [0.5866, 0.2790, 0.1344],\n",
       "        [0.0061, 0.9600, 0.0339],\n",
       "        [0.0067, 0.9602, 0.0331],\n",
       "        [0.4176, 0.5076, 0.0748],\n",
       "        [0.0110, 0.0229, 0.9662],\n",
       "        [0.0335, 0.4560, 0.5105],\n",
       "        [0.1285, 0.7728, 0.0987],\n",
       "        [0.0889, 0.1762, 0.7349],\n",
       "        [0.3163, 0.2281, 0.4556],\n",
       "        [0.3813, 0.5585, 0.0602],\n",
       "        [0.4196, 0.2809, 0.2995],\n",
       "        [0.0038, 0.9356, 0.0606],\n",
       "        [0.0127, 0.0599, 0.9274],\n",
       "        [0.0066, 0.0144, 0.9790],\n",
       "        [0.0497, 0.7607, 0.1896],\n",
       "        [0.0063, 0.9513, 0.0424],\n",
       "        [0.0046, 0.9736, 0.0218],\n",
       "        [0.1038, 0.8252, 0.0711],\n",
       "        [0.0590, 0.1224, 0.8186],\n",
       "        [0.0074, 0.0185, 0.9741],\n",
       "        [0.0033, 0.9677, 0.0290],\n",
       "        [0.0032, 0.9775, 0.0192],\n",
       "        [0.0050, 0.0102, 0.9848],\n",
       "        [0.0090, 0.8060, 0.1850],\n",
       "        [0.0055, 0.8184, 0.1761],\n",
       "        [0.0039, 0.9537, 0.0424],\n",
       "        [0.0052, 0.9739, 0.0209],\n",
       "        [0.0038, 0.8535, 0.1427],\n",
       "        [0.0214, 0.8165, 0.1622],\n",
       "        [0.0037, 0.0105, 0.9858],\n",
       "        [0.0372, 0.1770, 0.7857],\n",
       "        [0.0057, 0.9654, 0.0289],\n",
       "        [0.1013, 0.3645, 0.5343],\n",
       "        [0.0090, 0.2068, 0.7841],\n",
       "        [0.0376, 0.3680, 0.5944],\n",
       "        [0.0053, 0.9690, 0.0257],\n",
       "        [0.0088, 0.9768, 0.0144],\n",
       "        [0.1969, 0.6192, 0.1839],\n",
       "        [0.2930, 0.5746, 0.1324],\n",
       "        [0.0763, 0.0804, 0.8432],\n",
       "        [0.1878, 0.0922, 0.7201],\n",
       "        [0.1343, 0.3710, 0.4947],\n",
       "        [0.0286, 0.1685, 0.8030],\n",
       "        [0.3647, 0.3692, 0.2660],\n",
       "        [0.0047, 0.0088, 0.9864],\n",
       "        [0.0045, 0.9781, 0.0174],\n",
       "        [0.0028, 0.0043, 0.9930],\n",
       "        [0.1322, 0.8378, 0.0300],\n",
       "        [0.0194, 0.0547, 0.9258],\n",
       "        [0.0029, 0.0051, 0.9920],\n",
       "        [0.0043, 0.9728, 0.0229],\n",
       "        [0.0101, 0.9748, 0.0151],\n",
       "        [0.0068, 0.5652, 0.4280],\n",
       "        [0.0283, 0.0876, 0.8841],\n",
       "        [0.0091, 0.8550, 0.1359],\n",
       "        [0.2353, 0.7131, 0.0516],\n",
       "        [0.0039, 0.9798, 0.0163],\n",
       "        [0.7132, 0.1636, 0.1232],\n",
       "        [0.0418, 0.2320, 0.7263],\n",
       "        [0.5620, 0.0940, 0.3441],\n",
       "        [0.2438, 0.7074, 0.0488],\n",
       "        [0.0123, 0.0530, 0.9347],\n",
       "        [0.0080, 0.0232, 0.9688],\n",
       "        [0.0443, 0.4436, 0.5121],\n",
       "        [0.1887, 0.7423, 0.0690],\n",
       "        [0.0095, 0.0255, 0.9651],\n",
       "        [0.3779, 0.3671, 0.2550],\n",
       "        [0.4221, 0.1532, 0.4246],\n",
       "        [0.0072, 0.9203, 0.0725],\n",
       "        [0.0043, 0.0063, 0.9894],\n",
       "        [0.0073, 0.9558, 0.0369],\n",
       "        [0.0454, 0.9406, 0.0140],\n",
       "        [0.0048, 0.0129, 0.9823],\n",
       "        [0.0141, 0.0244, 0.9615],\n",
       "        [0.3458, 0.4197, 0.2346],\n",
       "        [0.1703, 0.0371, 0.7926],\n",
       "        [0.1112, 0.8460, 0.0428],\n",
       "        [0.0038, 0.9621, 0.0341],\n",
       "        [0.0070, 0.9222, 0.0708],\n",
       "        [0.0032, 0.0154, 0.9814]], requires_grad=True)"
      ]
     },
     "execution_count": 36,
     "metadata": {},
     "output_type": "execute_result"
    }
   ],
   "source": [
    "y_syn_sentence = copy.copy(output)\n",
    "y_syn_sentence"
   ]
  },
  {
   "cell_type": "code",
   "execution_count": null,
   "metadata": {
    "id": "2ASLPXDDtyN9"
   },
   "outputs": [],
   "source": [
    "import statistics\n",
    "def evaluate_embeddings(y_org_sentence, y_syn_sentence, y_true):\n",
    "  differences = []\n",
    "  for idx in range(len(y_true)):\n",
    "    y_hat_syn = y_syn_sentence[idx][y_true[idx]]\n",
    "    y_hat = y_org_sentence[idx][y_true[idx]]\n",
    "    # print(y_hat_syn)\n",
    "    # print(y_hat)\n",
    "    diff = abs(y_hat - y_hat_syn)\n",
    "    differences.append(diff)\n",
    "  metric_mean =  sum(differences)/len(y_pred) #\n",
    "  metric_median = statistics.median(differences)\n",
    "  return metric_mean, metric_median\n",
    "metric_mean, metric_median = evaluate_embeddings(y_org_sentence, y_syn_sentence, y_true)"
   ]
  },
  {
   "cell_type": "code",
   "execution_count": null,
   "metadata": {
    "colab": {
     "base_uri": "https://localhost:8080/"
    },
    "executionInfo": {
     "elapsed": 8,
     "status": "ok",
     "timestamp": 1714906599199,
     "user": {
      "displayName": "Gaurang Patil",
      "userId": "15668632964256625578"
     },
     "user_tz": -330
    },
    "id": "cbf--Dz4tyJ0",
    "outputId": "d2d94115-3c11-4c29-b0c8-6188ae10837e"
   },
   "outputs": [
    {
     "data": {
      "text/plain": [
       "tensor(0.0907, grad_fn=<DivBackward0>)"
      ]
     },
     "execution_count": 38,
     "metadata": {},
     "output_type": "execute_result"
    }
   ],
   "source": [
    "metric_mean"
   ]
  },
  {
   "cell_type": "code",
   "execution_count": null,
   "metadata": {
    "colab": {
     "base_uri": "https://localhost:8080/"
    },
    "executionInfo": {
     "elapsed": 7,
     "status": "ok",
     "timestamp": 1714906599200,
     "user": {
      "displayName": "Gaurang Patil",
      "userId": "15668632964256625578"
     },
     "user_tz": -330
    },
    "id": "icJp3N73tyH5",
    "outputId": "da1ddc95-633b-48ef-f438-5a3b094d0ad2"
   },
   "outputs": [
    {
     "data": {
      "text/plain": [
       "tensor(0.0267, grad_fn=<DivBackward0>)"
      ]
     },
     "execution_count": 39,
     "metadata": {},
     "output_type": "execute_result"
    }
   ],
   "source": [
    "metric_median"
   ]
  }
 ],
 "metadata": {
  "colab": {
   "provenance": []
  },
  "kaggle": {
   "accelerator": "none",
   "dataSources": [
    {
     "datasetId": 3769702,
     "sourceId": 6520600,
     "sourceType": "datasetVersion"
    },
    {
     "datasetId": 4758408,
     "sourceId": 8065591,
     "sourceType": "datasetVersion"
    },
    {
     "datasetId": 4764598,
     "sourceId": 8074086,
     "sourceType": "datasetVersion"
    },
    {
     "datasetId": 4766081,
     "sourceId": 8076078,
     "sourceType": "datasetVersion"
    },
    {
     "datasetId": 4766287,
     "sourceId": 8076362,
     "sourceType": "datasetVersion"
    }
   ],
   "dockerImageVersionId": 30684,
   "isGpuEnabled": false,
   "isInternetEnabled": false,
   "language": "python",
   "sourceType": "notebook"
  },
  "kernelspec": {
   "display_name": "Python 3 (ipykernel)",
   "language": "python",
   "name": "python3"
  },
  "language_info": {
   "codemirror_mode": {
    "name": "ipython",
    "version": 3
   },
   "file_extension": ".py",
   "mimetype": "text/x-python",
   "name": "python",
   "nbconvert_exporter": "python",
   "pygments_lexer": "ipython3",
   "version": "3.11.3"
  }
 },
 "nbformat": 4,
 "nbformat_minor": 1
}
